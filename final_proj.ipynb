{
 "cells": [
  {
   "cell_type": "code",
   "execution_count": 1,
   "metadata": {},
   "outputs": [],
   "source": [
    "import numpy as np\n",
    "import pandas as pd\n",
    "import seaborn as sns\n",
    "import math\n",
    "import random\n",
    "import matplotlib.pyplot as plt\n",
    "from scipy import stats\n",
    "\n",
    "import json\n",
    "from datetime import timedelta, date, datetime\n",
    "%matplotlib inline"
   ]
  },
  {
   "cell_type": "code",
   "execution_count": 2,
   "metadata": {},
   "outputs": [],
   "source": [
    "import warnings\n",
    "warnings.filterwarnings('ignore')"
   ]
  },
  {
   "cell_type": "code",
   "execution_count": 3,
   "metadata": {},
   "outputs": [
    {
     "data": {
      "text/html": [
       "<div>\n",
       "<style scoped>\n",
       "    .dataframe tbody tr th:only-of-type {\n",
       "        vertical-align: middle;\n",
       "    }\n",
       "\n",
       "    .dataframe tbody tr th {\n",
       "        vertical-align: top;\n",
       "    }\n",
       "\n",
       "    .dataframe thead th {\n",
       "        text-align: right;\n",
       "    }\n",
       "</style>\n",
       "<table border=\"1\" class=\"dataframe\">\n",
       "  <thead>\n",
       "    <tr style=\"text-align: right;\">\n",
       "      <th></th>\n",
       "      <th>1</th>\n",
       "      <th>2014-09-14</th>\n",
       "      <th>[{\"meal\": \"MY food\", \"dishes\": [{\"nutritions\": [{\"name\": \"Calories\", \"value\": \"412\"}, {\"name\": \"Carbs\", \"value\": \"29\"}, {\"name\": \"Fat\", \"value\": \"24\"}, {\"name\": \"Protein\", \"value\": \"21\"}, {\"name\": \"Sodium\", \"value\": \"258\"}, {\"name\": \"Sugar\", \"value\": \"29\"}], \"name\": \"my - McDonalds Espresso Pronto\\u00ae Flat White, 2 TALL\"}, {\"nutritions\": [{\"name\": \"Calories\", \"value\": \"170\"}, {\"name\": \"Carbs\", \"value\": \"25\"}, {\"name\": \"Fat\", \"value\": \"5\"}, {\"name\": \"Protein\", \"value\": \"20\"}, {\"name\": \"Sodium\", \"value\": \"260\"}, {\"name\": \"Sugar\", \"value\": \"2\"}], \"name\": \"Quest Bar - Banana Nut Muffin Natural Protein Bar, 60 g\"}, {\"nutritions\": [{\"name\": \"Calories\", \"value\": \"176\"}, {\"name\": \"Carbs\", \"value\": \"33\"}, {\"name\": \"Fat\", \"value\": \"1\"}, {\"name\": \"Protein\", \"value\": \"5\"}, {\"name\": \"Sodium\", \"value\": \"195\"}, {\"name\": \"Sugar\", \"value\": \"0\"}], \"name\": \"Uncle Tobys Australia - Vita Brits, 3 Biscuits 33.3g\"}, {\"nutritions\": [{\"name\": \"Calories\", \"value\": \"342\"}, {\"name\": \"Carbs\", \"value\": \"34\"}, {\"name\": \"Fat\", \"value\": \"12\"}, {\"name\": \"Protein\", \"value\": \"24\"}, {\"name\": \"Sodium\", \"value\": \"402\"}, {\"name\": \"Sugar\", \"value\": \"34\"}], \"name\": \"Pauls - Smarter White Milk, 600 ml\"}, {\"nutritions\": [{\"name\": \"Calories\", \"value\": \"180\"}, {\"name\": \"Carbs\", \"value\": \"22\"}, {\"name\": \"Fat\", \"value\": \"7\"}, {\"name\": \"Protein\", \"value\": \"21\"}, {\"name\": \"Sodium\", \"value\": \"310\"}, {\"name\": \"Sugar\", \"value\": \"1\"}], \"name\": \"Quest Bar - Cookies and Cream, 1 bar\"}, {\"nutritions\": [{\"name\": \"Calories\", \"value\": \"180\"}, {\"name\": \"Carbs\", \"value\": \"46\"}, {\"name\": \"Fat\", \"value\": \"0\"}, {\"name\": \"Protein\", \"value\": \"0\"}, {\"name\": \"Sodium\", \"value\": \"100\"}, {\"name\": \"Sugar\", \"value\": \"22\"}], \"name\": \"Gu Sports - Chomps, 8 pieces\"}, {\"nutritions\": [{\"name\": \"Calories\", \"value\": \"170\"}, {\"name\": \"Carbs\", \"value\": \"25\"}, {\"name\": \"Fat\", \"value\": \"5\"}, {\"name\": \"Protein\", \"value\": \"20\"}, {\"name\": \"Sodium\", \"value\": \"260\"}, {\"name\": \"Sugar\", \"value\": \"2\"}], \"name\": \"Quest Bar - Banana Nut Muffin Natural Protein Bar, 60 g\"}, {\"nutritions\": [{\"name\": \"Calories\", \"value\": \"160\"}, {\"name\": \"Carbs\", \"value\": \"25\"}, {\"name\": \"Fat\", \"value\": \"5\"}, {\"name\": \"Protein\", \"value\": \"20\"}, {\"name\": \"Sodium\", \"value\": \"240\"}, {\"name\": \"Sugar\", \"value\": \"2\"}], \"name\": \"Quest - Protein Bar Chocolate Peanut Butter, 1 bar (60 g)\"}, {\"nutritions\": [{\"name\": \"Calories\", \"value\": \"686\"}, {\"name\": \"Carbs\", \"value\": \"59\"}, {\"name\": \"Fat\", \"value\": \"31\"}, {\"name\": \"Protein\", \"value\": \"40\"}, {\"name\": \"Sodium\", \"value\": \"1,105\"}, {\"name\": \"Sugar\", \"value\": \"9\"}], \"name\": \"Grilld - Simply Grilled (Real), 1.25 burger\"}, {\"nutritions\": [{\"name\": \"Calories\", \"value\": \"252\"}, {\"name\": \"Carbs\", \"value\": \"27\"}, {\"name\": \"Fat\", \"value\": \"14\"}, {\"name\": \"Protein\", \"value\": \"5\"}, {\"name\": \"Sodium\", \"value\": \"352\"}, {\"name\": \"Sugar\", \"value\": \"1\"}], \"name\": \"Grilld - Snack Chips, 1 snack size\"}, {\"nutritions\": [{\"name\": \"Calories\", \"value\": \"196\"}, {\"name\": \"Carbs\", \"value\": \"15\"}, {\"name\": \"Fat\", \"value\": \"10\"}, {\"name\": \"Protein\", \"value\": \"10\"}, {\"name\": \"Sodium\", \"value\": \"176\"}, {\"name\": \"Sugar\", \"value\": \"7\"}], \"name\": \"Tasti - Salted Caramel Protein Bar, 40 g\"}], \"sequence\": 1}]</th>\n",
       "      <th>{\"total\": [{\"name\": \"Calories\", \"value\": 2924}, {\"name\": \"Carbs\", \"value\": 340}, {\"name\": \"Fat\", \"value\": 114}, {\"name\": \"Protein\", \"value\": 186}, {\"name\": \"Sodium\", \"value\": 3658}, {\"name\": \"Sugar\", \"value\": 109}], \"goal\": [{\"name\": \"Calories\", \"value\": 3173}, {\"name\": \"Carbs\", \"value\": 396}, {\"name\": \"Fat\", \"value\": 105}, {\"name\": \"Protein\", \"value\": 160}, {\"name\": \"Sodium\", \"value\": 2300}, {\"name\": \"Sugar\", \"value\": 119}]}</th>\n",
       "    </tr>\n",
       "  </thead>\n",
       "  <tbody>\n",
       "    <tr>\n",
       "      <th>0</th>\n",
       "      <td>1</td>\n",
       "      <td>2014-09-15</td>\n",
       "      <td>[{\"meal\": \"MY food\", \"dishes\": [{\"nutritions\":...</td>\n",
       "      <td>{\"total\": [{\"name\": \"Calories\", \"value\": 2430}...</td>\n",
       "    </tr>\n",
       "    <tr>\n",
       "      <th>1</th>\n",
       "      <td>1</td>\n",
       "      <td>2014-09-16</td>\n",
       "      <td>[{\"meal\": \"MY food\", \"dishes\": [{\"nutritions\":...</td>\n",
       "      <td>{\"total\": [{\"name\": \"Calories\", \"value\": 1862}...</td>\n",
       "    </tr>\n",
       "    <tr>\n",
       "      <th>2</th>\n",
       "      <td>1</td>\n",
       "      <td>2014-09-17</td>\n",
       "      <td>[{\"meal\": \"MY food\", \"dishes\": [{\"nutritions\":...</td>\n",
       "      <td>{\"total\": [{\"name\": \"Calories\", \"value\": 2251}...</td>\n",
       "    </tr>\n",
       "    <tr>\n",
       "      <th>3</th>\n",
       "      <td>1</td>\n",
       "      <td>2014-09-18</td>\n",
       "      <td>[{\"meal\": \"MY food\", \"dishes\": [{\"nutritions\":...</td>\n",
       "      <td>{\"total\": [{\"name\": \"Calories\", \"value\": 2001}...</td>\n",
       "    </tr>\n",
       "    <tr>\n",
       "      <th>4</th>\n",
       "      <td>1</td>\n",
       "      <td>2014-09-19</td>\n",
       "      <td>[{\"meal\": \"MY food\", \"dishes\": [{\"nutritions\":...</td>\n",
       "      <td>{\"total\": [{\"name\": \"Calories\", \"value\": 2158}...</td>\n",
       "    </tr>\n",
       "    <tr>\n",
       "      <th>...</th>\n",
       "      <td>...</td>\n",
       "      <td>...</td>\n",
       "      <td>...</td>\n",
       "      <td>...</td>\n",
       "    </tr>\n",
       "    <tr>\n",
       "      <th>587181</th>\n",
       "      <td>9897</td>\n",
       "      <td>2015-03-02</td>\n",
       "      <td>[{\"meal\": \"Breakfast\", \"dishes\": [{\"nutritions...</td>\n",
       "      <td>{\"total\": [{\"name\": \"Calories\", \"value\": 1979}...</td>\n",
       "    </tr>\n",
       "    <tr>\n",
       "      <th>587182</th>\n",
       "      <td>9897</td>\n",
       "      <td>2015-03-03</td>\n",
       "      <td>[{\"meal\": \"Breakfast\", \"dishes\": [{\"nutritions...</td>\n",
       "      <td>{\"total\": [{\"name\": \"Calories\", \"value\": 2141}...</td>\n",
       "    </tr>\n",
       "    <tr>\n",
       "      <th>587183</th>\n",
       "      <td>9897</td>\n",
       "      <td>2015-03-04</td>\n",
       "      <td>[{\"meal\": \"Breakfast\", \"dishes\": [{\"nutritions...</td>\n",
       "      <td>{\"total\": [{\"name\": \"Calories\", \"value\": 543},...</td>\n",
       "    </tr>\n",
       "    <tr>\n",
       "      <th>587184</th>\n",
       "      <td>9897</td>\n",
       "      <td>2015-03-14</td>\n",
       "      <td>[{\"meal\": \"Breakfast\", \"dishes\": [{\"nutritions...</td>\n",
       "      <td>{\"total\": [{\"name\": \"Calories\", \"value\": 2024}...</td>\n",
       "    </tr>\n",
       "    <tr>\n",
       "      <th>587185</th>\n",
       "      <td>9897</td>\n",
       "      <td>2015-03-15</td>\n",
       "      <td>[{\"meal\": \"Breakfast\", \"dishes\": [{\"nutritions...</td>\n",
       "      <td>{\"total\": [{\"name\": \"Calories\", \"value\": 1496}...</td>\n",
       "    </tr>\n",
       "  </tbody>\n",
       "</table>\n",
       "<p>587186 rows × 4 columns</p>\n",
       "</div>"
      ],
      "text/plain": [
       "           1  2014-09-14  \\\n",
       "0          1  2014-09-15   \n",
       "1          1  2014-09-16   \n",
       "2          1  2014-09-17   \n",
       "3          1  2014-09-18   \n",
       "4          1  2014-09-19   \n",
       "...      ...         ...   \n",
       "587181  9897  2015-03-02   \n",
       "587182  9897  2015-03-03   \n",
       "587183  9897  2015-03-04   \n",
       "587184  9897  2015-03-14   \n",
       "587185  9897  2015-03-15   \n",
       "\n",
       "       [{\"meal\": \"MY food\", \"dishes\": [{\"nutritions\": [{\"name\": \"Calories\", \"value\": \"412\"}, {\"name\": \"Carbs\", \"value\": \"29\"}, {\"name\": \"Fat\", \"value\": \"24\"}, {\"name\": \"Protein\", \"value\": \"21\"}, {\"name\": \"Sodium\", \"value\": \"258\"}, {\"name\": \"Sugar\", \"value\": \"29\"}], \"name\": \"my - McDonalds Espresso Pronto\\u00ae Flat White, 2 TALL\"}, {\"nutritions\": [{\"name\": \"Calories\", \"value\": \"170\"}, {\"name\": \"Carbs\", \"value\": \"25\"}, {\"name\": \"Fat\", \"value\": \"5\"}, {\"name\": \"Protein\", \"value\": \"20\"}, {\"name\": \"Sodium\", \"value\": \"260\"}, {\"name\": \"Sugar\", \"value\": \"2\"}], \"name\": \"Quest Bar - Banana Nut Muffin Natural Protein Bar, 60 g\"}, {\"nutritions\": [{\"name\": \"Calories\", \"value\": \"176\"}, {\"name\": \"Carbs\", \"value\": \"33\"}, {\"name\": \"Fat\", \"value\": \"1\"}, {\"name\": \"Protein\", \"value\": \"5\"}, {\"name\": \"Sodium\", \"value\": \"195\"}, {\"name\": \"Sugar\", \"value\": \"0\"}], \"name\": \"Uncle Tobys Australia - Vita Brits, 3 Biscuits 33.3g\"}, {\"nutritions\": [{\"name\": \"Calories\", \"value\": \"342\"}, {\"name\": \"Carbs\", \"value\": \"34\"}, {\"name\": \"Fat\", \"value\": \"12\"}, {\"name\": \"Protein\", \"value\": \"24\"}, {\"name\": \"Sodium\", \"value\": \"402\"}, {\"name\": \"Sugar\", \"value\": \"34\"}], \"name\": \"Pauls - Smarter White Milk, 600 ml\"}, {\"nutritions\": [{\"name\": \"Calories\", \"value\": \"180\"}, {\"name\": \"Carbs\", \"value\": \"22\"}, {\"name\": \"Fat\", \"value\": \"7\"}, {\"name\": \"Protein\", \"value\": \"21\"}, {\"name\": \"Sodium\", \"value\": \"310\"}, {\"name\": \"Sugar\", \"value\": \"1\"}], \"name\": \"Quest Bar - Cookies and Cream, 1 bar\"}, {\"nutritions\": [{\"name\": \"Calories\", \"value\": \"180\"}, {\"name\": \"Carbs\", \"value\": \"46\"}, {\"name\": \"Fat\", \"value\": \"0\"}, {\"name\": \"Protein\", \"value\": \"0\"}, {\"name\": \"Sodium\", \"value\": \"100\"}, {\"name\": \"Sugar\", \"value\": \"22\"}], \"name\": \"Gu Sports - Chomps, 8 pieces\"}, {\"nutritions\": [{\"name\": \"Calories\", \"value\": \"170\"}, {\"name\": \"Carbs\", \"value\": \"25\"}, {\"name\": \"Fat\", \"value\": \"5\"}, {\"name\": \"Protein\", \"value\": \"20\"}, {\"name\": \"Sodium\", \"value\": \"260\"}, {\"name\": \"Sugar\", \"value\": \"2\"}], \"name\": \"Quest Bar - Banana Nut Muffin Natural Protein Bar, 60 g\"}, {\"nutritions\": [{\"name\": \"Calories\", \"value\": \"160\"}, {\"name\": \"Carbs\", \"value\": \"25\"}, {\"name\": \"Fat\", \"value\": \"5\"}, {\"name\": \"Protein\", \"value\": \"20\"}, {\"name\": \"Sodium\", \"value\": \"240\"}, {\"name\": \"Sugar\", \"value\": \"2\"}], \"name\": \"Quest - Protein Bar Chocolate Peanut Butter, 1 bar (60 g)\"}, {\"nutritions\": [{\"name\": \"Calories\", \"value\": \"686\"}, {\"name\": \"Carbs\", \"value\": \"59\"}, {\"name\": \"Fat\", \"value\": \"31\"}, {\"name\": \"Protein\", \"value\": \"40\"}, {\"name\": \"Sodium\", \"value\": \"1,105\"}, {\"name\": \"Sugar\", \"value\": \"9\"}], \"name\": \"Grilld - Simply Grilled (Real), 1.25 burger\"}, {\"nutritions\": [{\"name\": \"Calories\", \"value\": \"252\"}, {\"name\": \"Carbs\", \"value\": \"27\"}, {\"name\": \"Fat\", \"value\": \"14\"}, {\"name\": \"Protein\", \"value\": \"5\"}, {\"name\": \"Sodium\", \"value\": \"352\"}, {\"name\": \"Sugar\", \"value\": \"1\"}], \"name\": \"Grilld - Snack Chips, 1 snack size\"}, {\"nutritions\": [{\"name\": \"Calories\", \"value\": \"196\"}, {\"name\": \"Carbs\", \"value\": \"15\"}, {\"name\": \"Fat\", \"value\": \"10\"}, {\"name\": \"Protein\", \"value\": \"10\"}, {\"name\": \"Sodium\", \"value\": \"176\"}, {\"name\": \"Sugar\", \"value\": \"7\"}], \"name\": \"Tasti - Salted Caramel Protein Bar, 40 g\"}], \"sequence\": 1}]  \\\n",
       "0       [{\"meal\": \"MY food\", \"dishes\": [{\"nutritions\":...                                                                                                                                                                                                                                                                                                                                                                                                                                                                                                                                                                                                                                                                                                                                                                                                                                                                                                                                                                                                                                                                                                                                                                                                                                                                                                                                                                                                                                                                                                                                                                                                                                                                                                                                                                                                                                                                                                                                                                                                                                                                                                                                                                                                                                                                                                                                                                                                                                                                                                                                                                                                                                                                                                                                                                                                                                                                                                                                                                                                                                                                                                                                                                                                                                           \n",
       "1       [{\"meal\": \"MY food\", \"dishes\": [{\"nutritions\":...                                                                                                                                                                                                                                                                                                                                                                                                                                                                                                                                                                                                                                                                                                                                                                                                                                                                                                                                                                                                                                                                                                                                                                                                                                                                                                                                                                                                                                                                                                                                                                                                                                                                                                                                                                                                                                                                                                                                                                                                                                                                                                                                                                                                                                                                                                                                                                                                                                                                                                                                                                                                                                                                                                                                                                                                                                                                                                                                                                                                                                                                                                                                                                                                                                           \n",
       "2       [{\"meal\": \"MY food\", \"dishes\": [{\"nutritions\":...                                                                                                                                                                                                                                                                                                                                                                                                                                                                                                                                                                                                                                                                                                                                                                                                                                                                                                                                                                                                                                                                                                                                                                                                                                                                                                                                                                                                                                                                                                                                                                                                                                                                                                                                                                                                                                                                                                                                                                                                                                                                                                                                                                                                                                                                                                                                                                                                                                                                                                                                                                                                                                                                                                                                                                                                                                                                                                                                                                                                                                                                                                                                                                                                                                           \n",
       "3       [{\"meal\": \"MY food\", \"dishes\": [{\"nutritions\":...                                                                                                                                                                                                                                                                                                                                                                                                                                                                                                                                                                                                                                                                                                                                                                                                                                                                                                                                                                                                                                                                                                                                                                                                                                                                                                                                                                                                                                                                                                                                                                                                                                                                                                                                                                                                                                                                                                                                                                                                                                                                                                                                                                                                                                                                                                                                                                                                                                                                                                                                                                                                                                                                                                                                                                                                                                                                                                                                                                                                                                                                                                                                                                                                                                           \n",
       "4       [{\"meal\": \"MY food\", \"dishes\": [{\"nutritions\":...                                                                                                                                                                                                                                                                                                                                                                                                                                                                                                                                                                                                                                                                                                                                                                                                                                                                                                                                                                                                                                                                                                                                                                                                                                                                                                                                                                                                                                                                                                                                                                                                                                                                                                                                                                                                                                                                                                                                                                                                                                                                                                                                                                                                                                                                                                                                                                                                                                                                                                                                                                                                                                                                                                                                                                                                                                                                                                                                                                                                                                                                                                                                                                                                                                           \n",
       "...                                                   ...                                                                                                                                                                                                                                                                                                                                                                                                                                                                                                                                                                                                                                                                                                                                                                                                                                                                                                                                                                                                                                                                                                                                                                                                                                                                                                                                                                                                                                                                                                                                                                                                                                                                                                                                                                                                                                                                                                                                                                                                                                                                                                                                                                                                                                                                                                                                                                                                                                                                                                                                                                                                                                                                                                                                                                                                                                                                                                                                                                                                                                                                                                                                                                                                                                           \n",
       "587181  [{\"meal\": \"Breakfast\", \"dishes\": [{\"nutritions...                                                                                                                                                                                                                                                                                                                                                                                                                                                                                                                                                                                                                                                                                                                                                                                                                                                                                                                                                                                                                                                                                                                                                                                                                                                                                                                                                                                                                                                                                                                                                                                                                                                                                                                                                                                                                                                                                                                                                                                                                                                                                                                                                                                                                                                                                                                                                                                                                                                                                                                                                                                                                                                                                                                                                                                                                                                                                                                                                                                                                                                                                                                                                                                                                                           \n",
       "587182  [{\"meal\": \"Breakfast\", \"dishes\": [{\"nutritions...                                                                                                                                                                                                                                                                                                                                                                                                                                                                                                                                                                                                                                                                                                                                                                                                                                                                                                                                                                                                                                                                                                                                                                                                                                                                                                                                                                                                                                                                                                                                                                                                                                                                                                                                                                                                                                                                                                                                                                                                                                                                                                                                                                                                                                                                                                                                                                                                                                                                                                                                                                                                                                                                                                                                                                                                                                                                                                                                                                                                                                                                                                                                                                                                                                           \n",
       "587183  [{\"meal\": \"Breakfast\", \"dishes\": [{\"nutritions...                                                                                                                                                                                                                                                                                                                                                                                                                                                                                                                                                                                                                                                                                                                                                                                                                                                                                                                                                                                                                                                                                                                                                                                                                                                                                                                                                                                                                                                                                                                                                                                                                                                                                                                                                                                                                                                                                                                                                                                                                                                                                                                                                                                                                                                                                                                                                                                                                                                                                                                                                                                                                                                                                                                                                                                                                                                                                                                                                                                                                                                                                                                                                                                                                                           \n",
       "587184  [{\"meal\": \"Breakfast\", \"dishes\": [{\"nutritions...                                                                                                                                                                                                                                                                                                                                                                                                                                                                                                                                                                                                                                                                                                                                                                                                                                                                                                                                                                                                                                                                                                                                                                                                                                                                                                                                                                                                                                                                                                                                                                                                                                                                                                                                                                                                                                                                                                                                                                                                                                                                                                                                                                                                                                                                                                                                                                                                                                                                                                                                                                                                                                                                                                                                                                                                                                                                                                                                                                                                                                                                                                                                                                                                                                           \n",
       "587185  [{\"meal\": \"Breakfast\", \"dishes\": [{\"nutritions...                                                                                                                                                                                                                                                                                                                                                                                                                                                                                                                                                                                                                                                                                                                                                                                                                                                                                                                                                                                                                                                                                                                                                                                                                                                                                                                                                                                                                                                                                                                                                                                                                                                                                                                                                                                                                                                                                                                                                                                                                                                                                                                                                                                                                                                                                                                                                                                                                                                                                                                                                                                                                                                                                                                                                                                                                                                                                                                                                                                                                                                                                                                                                                                                                                           \n",
       "\n",
       "       {\"total\": [{\"name\": \"Calories\", \"value\": 2924}, {\"name\": \"Carbs\", \"value\": 340}, {\"name\": \"Fat\", \"value\": 114}, {\"name\": \"Protein\", \"value\": 186}, {\"name\": \"Sodium\", \"value\": 3658}, {\"name\": \"Sugar\", \"value\": 109}], \"goal\": [{\"name\": \"Calories\", \"value\": 3173}, {\"name\": \"Carbs\", \"value\": 396}, {\"name\": \"Fat\", \"value\": 105}, {\"name\": \"Protein\", \"value\": 160}, {\"name\": \"Sodium\", \"value\": 2300}, {\"name\": \"Sugar\", \"value\": 119}]}  \n",
       "0       {\"total\": [{\"name\": \"Calories\", \"value\": 2430}...                                                                                                                                                                                                                                                                                                                                                                                             \n",
       "1       {\"total\": [{\"name\": \"Calories\", \"value\": 1862}...                                                                                                                                                                                                                                                                                                                                                                                             \n",
       "2       {\"total\": [{\"name\": \"Calories\", \"value\": 2251}...                                                                                                                                                                                                                                                                                                                                                                                             \n",
       "3       {\"total\": [{\"name\": \"Calories\", \"value\": 2001}...                                                                                                                                                                                                                                                                                                                                                                                             \n",
       "4       {\"total\": [{\"name\": \"Calories\", \"value\": 2158}...                                                                                                                                                                                                                                                                                                                                                                                             \n",
       "...                                                   ...                                                                                                                                                                                                                                                                                                                                                                                             \n",
       "587181  {\"total\": [{\"name\": \"Calories\", \"value\": 1979}...                                                                                                                                                                                                                                                                                                                                                                                             \n",
       "587182  {\"total\": [{\"name\": \"Calories\", \"value\": 2141}...                                                                                                                                                                                                                                                                                                                                                                                             \n",
       "587183  {\"total\": [{\"name\": \"Calories\", \"value\": 543},...                                                                                                                                                                                                                                                                                                                                                                                             \n",
       "587184  {\"total\": [{\"name\": \"Calories\", \"value\": 2024}...                                                                                                                                                                                                                                                                                                                                                                                             \n",
       "587185  {\"total\": [{\"name\": \"Calories\", \"value\": 1496}...                                                                                                                                                                                                                                                                                                                                                                                             \n",
       "\n",
       "[587186 rows x 4 columns]"
      ]
     },
     "execution_count": 3,
     "metadata": {},
     "output_type": "execute_result"
    }
   ],
   "source": [
    "import os\n",
    "path = os.getcwd() + '/mfp-diaries.tsv'\n",
    "data = pd.read_csv(path, sep='\\t')\n",
    "data"
   ]
  },
  {
   "cell_type": "markdown",
   "metadata": {},
   "source": [
    "## აქ დავწეერთ დატის პატარა აღწერას და მივაწერთ ამ სიმახინჯეს როგორ გადავაჩვენგემოვნებთ\n",
    "მონაცემების საკმაოდ მოცულობითია 587186 სტრიქონი 4 სვეტზე. თითოეული სტიქონისთვის გვაქს აიდი, რომელიც იუზერის მაინდიფიცირებელი რიცხვია(1) , გვაქვს თარიღი(2), რომელ დღესაც იუზერმა შეიყვანა აპლიკაციაში მონაცემები. გვაქვს თვითონ მონაცემები , რომელიც იუზერმა შეიყვანა (3) . ეს მონაცემები დიქშენერების მასივი , რომელშიცი ისევ დიქშენერებია. თითოეულ ელემენტს აქვს საჭმლის სახელი, შემცველი ნუტრიენტები(ცილები , ცხიმები , ნახშირწყლები ... ).მეოთხე სვეტში არის ტოტალური რაოდენობა ნუტრიენტების და მიზანი . ანუ რა მიზანი ჰქონდა დასახული აპლიკაციას და რა რაოდენობის ნუტრიენტები მოიხმარა მომხმარებელმა . ერთი შეხედვით მონაცემები ისეთი სახითაა წარმოდგენილი , რომ სავარაუდოდ ანომალიათა და დივერგენციების რაოდენობა საკმაოდ იქნება . \n",
    "დავიწყოთ ამ მონაცემების დაპარსვა,  და მათი გასუფთავება  ."
   ]
  },
  {
   "cell_type": "markdown",
   "metadata": {},
   "source": [
    "შევხედოთ დროის რა მონაკვეთში არის მონაცემები ასახული ."
   ]
  },
  {
   "cell_type": "code",
   "execution_count": 4,
   "metadata": {},
   "outputs": [
    {
     "name": "stdout",
     "output_type": "stream",
     "text": [
      "First Date:  2014-09-14\n",
      "Last Date:  2015-04-09\n"
     ]
    }
   ],
   "source": [
    "print(\"First Date: \", data[data.columns[1]].unique().min())\n",
    "print(\"Last Date: \",data[data.columns[1]].unique().max())"
   ]
  },
  {
   "cell_type": "markdown",
   "metadata": {},
   "source": [
    "შევხედოთ რამდენი განსხვავებული თარიღი გვხვდება"
   ]
  },
  {
   "cell_type": "code",
   "execution_count": 6,
   "metadata": {},
   "outputs": [
    {
     "name": "stdout",
     "output_type": "stream",
     "text": [
      "unique dates:  208\n"
     ]
    }
   ],
   "source": [
    "uniques = data[data.columns[1]].unique()\n",
    "print(\"unique dates: \", len(uniques))"
   ]
  },
  {
   "cell_type": "raw",
   "metadata": {},
   "source": [
    "როგორც ვხედავთ თარიღების დუპლიკაცია არაა რადგან 2015-04-09 - 2014-09-14 = 208 დღეს\n",
    "ვნახოთ როგორი სიხშირით იყენებდა ხალხი აპლიკაციას. ეს საშუალებას მოგვცემს განვსაზღვროთ როგორი დინამიკა იყო ამ დროის პერიოდის განმავლობაში."
   ]
  },
  {
   "cell_type": "code",
   "execution_count": 18,
   "metadata": {},
   "outputs": [],
   "source": [
    "user_activity = np.zeros(data[data.columns[0]].unique().max())\n",
    "for i in range( int((end-start).days)+1):\n",
    "    dat = start+timedelta(i)\n",
    "    dat_str = dat.strftime('%Y-%m-%d')\n",
    "    curr_dt = data[data[data.columns[1]]==dat_str]\n",
    "    for j in range(curr_dt.shape[0]):\n",
    "        user_activity[curr_dt.iloc[j,0]-1]+=1\n"
   ]
  },
  {
   "cell_type": "code",
   "execution_count": 19,
   "metadata": {},
   "outputs": [
    {
     "data": {
      "image/png": "[encoded data removed]",
      "text/plain": [
       "<Figure size 432x288 with 1 Axes>"
      ]
     },
     "metadata": {
      "needs_background": "light"
     },
     "output_type": "display_data"
    }
   ],
   "source": [
    "plt.hist(user_activity, bins=50)\n",
    "plt.ylabel('Frequency')\n",
    "plt.title('Frequency of User Activity')\n",
    "plt.show()"
   ]
  },
  {
   "cell_type": "markdown",
   "metadata": {},
   "source": [
    "როგორც ვხედავთ იუზერების აქტივობა დროის პერიოდის დასაწყისში ბევრად უფრო მეტი იყო და დროთა განმავლობაში დაიკლო ხოლო ბოლოს ისევ მოიმტა. სავარაუდოდ მსგავსი დინამიკა დამოკიდბულია აპლიკაციის გამოსვლის და მისი აქტუალურობის ასპქტთან . ამასთანავე დროის პერიოდი როდესაც ყველაზე მაღალია აქტივობა არის შემოდგომის პერიოდი. ეს მონაცემიც შეგვიძლია გამოვიყენოთ იმის გასაგებად , თუ რა დროს არის ყველაზე მეტი სარგებლის მომტანი აპლიკაციის გაპიარება . "
   ]
  },
  {
   "cell_type": "code",
   "execution_count": null,
   "metadata": {},
   "outputs": [],
   "source": [
    "როგორც ვნახეთ ზევით , თითოეული საჭმელი შეიცავს გარკვეულ ნუტრიენტებს . ჩვენთვის საინტერესო გახდა რა \n",
    "ნუტრინენტებია მონაცემებში და რა რაოდენობით . სავარაუდოდ ზოგიერთი ნუტრიენტი ნაკლებად იქნება , ზოგიერთი მეტი,\n",
    "რაც  მსგავსი ნუტრიენტების გადაგდების საშუალებას მოგვცემს"
   ]
  },
  {
   "cell_type": "markdown",
   "metadata": {},
   "source": [
    "თითოეულ საჭმელს აქვს dishes პარამეტრი და თითოეულ dish_ში არის ნუტრიენტების მასივი . თითოეულ ნუტრიენტს აქვს სახელი და მისი შესაბამისი რაოდენობა . პრიველ ჯერზე დავთვალოთ რამდენჯერ გვხვდება თითოეული ნუტრიენტი მონაცემებში."
   ]
  },
  {
   "cell_type": "code",
   "execution_count": 20,
   "metadata": {},
   "outputs": [],
   "source": [
    "unique_nutritions = {}\n",
    "for i in range(data.shape[0]):\n",
    "    foods = json.loads(data.iloc[i,2])\n",
    "    for j in range(len(foods)):\n",
    "        dishes = foods[j]['dishes']\n",
    "        \n",
    "        for curr_dish in range(len(dishes)):\n",
    "            nutritions = dishes[curr_dish]['nutritions']\n",
    "            \n",
    "            for n in range(len(nutritions)):\n",
    "                prto_type = nutritions[n]['name']\n",
    "                if prto_type in unique_nutritions.keys():\n",
    "                    unique_nutritions[prto_type]+=1\n",
    "                else:\n",
    "                    unique_nutritions[prto_type] = 1\n",
    "                "
   ]
  },
  {
   "cell_type": "code",
   "execution_count": null,
   "metadata": {},
   "outputs": [],
   "source": [
    "ჯერ ვნახოთ რამდენი სახის ნუტრიენტები გვაქვს "
   ]
  },
  {
   "cell_type": "code",
   "execution_count": 48,
   "metadata": {},
   "outputs": [
    {
     "name": "stdout",
     "output_type": "stream",
     "text": [
      "dict_keys(['Calories', 'Carbs', 'Fat', 'Protein', 'Sodium', 'Sugar', 'Fiber', 'Potass.', 'Iron', 'Calcium', 'Sat Fat', 'Chol', 'Vit A', 'Vit C', 'Trn Fat', 'Mon Fat', 'Ply Fat'])\n",
      "Num of nutrient types: 17\n"
     ]
    }
   ],
   "source": [
    "print(unique_nutritions.keys())\n",
    "print(\"Num of nutrient types: \"+str(len(unique_nutritions.keys())))"
   ]
  },
  {
   "cell_type": "markdown",
   "metadata": {},
   "source": [
    "ჩვენი პირველი ვარაუდი იყო რომ მაქსიმუმ 5 მახასიათებელი იქნებოდა , თუმცა როგორც ვხედავთ 17 სხვადასხვა სახის ნუტრიენტი გვაქვს"
   ]
  },
  {
   "cell_type": "code",
   "execution_count": 23,
   "metadata": {},
   "outputs": [
    {
     "name": "stdout",
     "output_type": "stream",
     "text": [
      "[('Calories', 6502736), ('Protein', 6428935), ('Carbs', 6332306), ('Fat', 6300927), ('Sodium', 4226233), ('Sugar', 3933313), ('Fiber', 2859976), ('Iron', 367846), ('Calcium', 280697), ('Potass.', 245784), ('Chol', 198545), ('Sat Fat', 190156), ('Vit C', 24166), ('Trn Fat', 16932), ('Ply Fat', 14614), ('Mon Fat', 11282), ('Vit A', 9165)]\n",
      "{'Calories': 6502736, 'Protein': 6428935, 'Carbs': 6332306, 'Fat': 6300927, 'Sodium': 4226233, 'Sugar': 3933313, 'Fiber': 2859976, 'Iron': 367846, 'Calcium': 280697, 'Potass.': 245784, 'Chol': 198545, 'Sat Fat': 190156, 'Vit C': 24166, 'Trn Fat': 16932, 'Ply Fat': 14614, 'Mon Fat': 11282, 'Vit A': 9165}\n"
     ]
    }
   ],
   "source": [
    "sortedNutritions = sorted(unique_nutritions.items(), key=lambda x : x[1], reverse = True)\n",
    "print(sortedNutritions)\n",
    "sortedDictionary = {}\n",
    "for nut in sortedNutritions:\n",
    "    sortedDictionary[nut[0]] = nut[1]\n",
    "print(sortedDictionary)"
   ]
  },
  {
   "cell_type": "code",
   "execution_count": 53,
   "metadata": {
    "scrolled": true
   },
   "outputs": [
    {
     "data": {
      "image/png": "[encoded data removed]",
      "text/plain": [
       "<Figure size 2160x576 with 1 Axes>"
      ]
     },
     "metadata": {
      "needs_background": "light"
     },
     "output_type": "display_data"
    }
   ],
   "source": [
    "plt.figure(figsize=(30,8))\n",
    "plt.bar(x = sortedDictionary.keys(), height = unique_nutritions.values())\n",
    "plt.title('Number of occurrences for each Nutrition')\n",
    "plt.show()"
   ]
  },
  {
   "cell_type": "markdown",
   "metadata": {},
   "source": [
    "ნუტრიენტებში ლიდერობენ კალორიები , პროტეინები , ნახშირწყლები,ცხიმები , შაქარი , ყველაზე მცირე რაოდენობით არის Vit C, Trn Fat,Ply Fat,Mon Fat,Vit A . \n",
    "ვინაიდან მათი რაოდენობა ძალიან მცირეა , გადავწყვიტეთ საერთოდ გადაგვეყარა.\n"
   ]
  },
  {
   "cell_type": "code",
   "execution_count": 33,
   "metadata": {},
   "outputs": [
    {
     "name": "stdout",
     "output_type": "stream",
     "text": [
      "{'Calories': 6502736, 'Protein': 6428935, 'Carbs': 6332306, 'Fat': 6300927, 'Sodium': 4226233, 'Sugar': 3933313, 'Fiber': 2859976, 'Potass.': 245784}\n"
     ]
    }
   ],
   "source": [
    "filteredNutritions = {}\n",
    "notNeededNutritionsList =['Vit A', 'Vit C', 'Trn Fat', \n",
    "                    'Mon Fat', 'Ply Fat','Iron','Calcium','Potass','Chol','Sat Fat']\n",
    "for nutritionName in sortedDictionary.keys():\n",
    "    if nutritionName not in notNeededNutritionsList:\n",
    "        filteredNutritions[nutritionName] = sortedDictionary[nutritionName]\n",
    "print(filteredNutritions)"
   ]
  },
  {
   "cell_type": "code",
   "execution_count": 34,
   "metadata": {},
   "outputs": [
    {
     "data": {
      "image/png": "[encoded data removed]",
      "text/plain": [
       "<Figure size 1440x576 with 1 Axes>"
      ]
     },
     "metadata": {},
     "output_type": "display_data"
    }
   ],
   "source": [
    "plt.figure(figsize=(20,8))\n",
    "plt.pie(filteredNutritions.values(), labels = filteredNutritions.keys(),autopct = \"%1.1f%%\")\n",
    "plt.show()"
   ]
  },
  {
   "cell_type": "markdown",
   "metadata": {},
   "source": [
    "დავთვალოთ საჭმელების უნიკალური მახასიათებლები 2 პარამეტრად, \n",
    "1.მომხმარებელს რამდენი აქვს შეყვანილი(რამდენი ჭამა)\n",
    "\n",
    "\n",
    "2.მიზანი (აპლიკაციამ რამდენი დაუნიშნა)\n"
   ]
  },
  {
   "cell_type": "markdown",
   "metadata": {},
   "source": [
    "# აქ ახსნილი გვეექნება ბოლო 5-ს რატომ ვაგდებთ ჩვენი ამოცანიდან გამომდინარე\n"
   ]
  },
  {
   "cell_type": "code",
   "execution_count": null,
   "metadata": {},
   "outputs": [],
   "source": [
    "prot_names = ['Calories', 'Carbs', 'Fat', 'Protein', \n",
    "         'Sodium', 'Sugar', 'Fiber', 'Potass.', \n",
    "         'Iron', 'Calcium', 'Sat Fat', 'Chol']\n",
    "\n",
    "not_needed_prots = ['Vit A', 'Vit C', 'Trn Fat', \n",
    "                    'Mon Fat', 'Ply Fat']"
   ]
  },
  {
   "cell_type": "markdown",
   "metadata": {},
   "source": [
    "ტოტალები"
   ]
  },
  {
   "cell_type": "code",
   "execution_count": null,
   "metadata": {},
   "outputs": [],
   "source": [
    "total_calories = []\n",
    "total_carbs = []\n",
    "total_fat = []\n",
    "total_protein = []\n",
    "total_sodium = []\n",
    "total_sugar = []\n",
    "total_fiber = []\n",
    "total_potass = []\n",
    "total_iron = []\n",
    "total_calcium = []\n",
    "total_sat_fat = []\n",
    "total_chol = []\n",
    "\n",
    "totals = [total_calories,total_carbs,total_fat,total_protein,\n",
    "          total_sodium, total_sugar,total_fiber,total_potass,\n",
    "          total_iron, total_calcium, total_sat_fat,total_chol]"
   ]
  },
  {
   "cell_type": "code",
   "execution_count": null,
   "metadata": {},
   "outputs": [],
   "source": [
    "def count_totals(tot_data):\n",
    "    result = {}\n",
    "\n",
    "    for curr_tot in tot_data:\n",
    "        prot_name = curr_tot['name']\n",
    "        if prot_name in not_needed_prots:\n",
    "            continue\n",
    "        prot_val = curr_tot['value']\n",
    "        if prot_name not in result.keys():\n",
    "            result[prot_name] = prot_val\n",
    "        else: \n",
    "            result[prot_name] += prot_val\n",
    "        \n",
    "        totals[prot_names.index(prot_name)].append(prot_val)\n",
    "        \n",
    "    return result"
   ]
  },
  {
   "cell_type": "markdown",
   "metadata": {},
   "source": [
    "მიზნები"
   ]
  },
  {
   "cell_type": "code",
   "execution_count": null,
   "metadata": {},
   "outputs": [],
   "source": [
    "goal_calories = []\n",
    "goal_carbs = []\n",
    "goal_fat = []\n",
    "goal_protein = []\n",
    "goal_sodium = []\n",
    "goal_sugar = []\n",
    "goal_fiber = []\n",
    "goal_potass = []\n",
    "goal_iron = []\n",
    "goal_calcium = []\n",
    "goal_sat_fat = []\n",
    "goal_chol = []\n",
    "\n",
    "goals = [goal_calories,goal_carbs,goal_fat,goal_protein,\n",
    "         goal_sodium,goal_sugar,goal_fiber,goal_potass,\n",
    "         goal_iron, goal_calcium, goal_sat_fat,goal_chol]"
   ]
  },
  {
   "cell_type": "code",
   "execution_count": null,
   "metadata": {},
   "outputs": [],
   "source": [
    "def fill_goals(goal_data):\n",
    "    for curr_goal in goal_data:\n",
    "        prot_name = curr_goal['name']\n",
    "        if prot_name in not_needed_prots:\n",
    "            continue\n",
    "        prot_value = curr_goal['value']\n",
    "        goals[prot_names.index(prot_name)].append(prot_value)"
   ]
  },
  {
   "cell_type": "markdown",
   "metadata": {},
   "source": [
    "### ამათი დანიშნულებაც აღვწეროთ რომ გავერკვევით"
   ]
  },
  {
   "cell_type": "code",
   "execution_count": null,
   "metadata": {},
   "outputs": [],
   "source": [
    "divergence = []\n",
    "dishes_count = []"
   ]
  },
  {
   "cell_type": "code",
   "execution_count": null,
   "metadata": {},
   "outputs": [],
   "source": [
    "def replacer(value):\n",
    "    return value.replace(',', '')"
   ]
  },
  {
   "cell_type": "code",
   "execution_count": null,
   "metadata": {},
   "outputs": [],
   "source": [
    "def count_sums():\n",
    "    result = {}\n",
    "    \n",
    "    dishes = json.loads(data.iloc[i,2])\n",
    "    \n",
    "    for dish in dishes:\n",
    "        dish_per_day = dish['dishes']\n",
    "        dishes_count.append(len(dish_per_day))\n",
    "        \n",
    "        for food in dish_per_day:\n",
    "            nutritions = food['nutritions']\n",
    "            \n",
    "            for prot in nutritions:\n",
    "                prot_name = prot['name']\n",
    "                if prot_name in not_needed_prots:\n",
    "                    continue\n",
    "                prot_val = prot['value']\n",
    "                if prot_name not in result.keys():\n",
    "                    result[prot_name] = int(replacer(prot_val))\n",
    "                else:\n",
    "                    result[prot_name] += int(replacer(prot_val))\n",
    "    \n",
    "    return result"
   ]
  },
  {
   "cell_type": "code",
   "execution_count": null,
   "metadata": {},
   "outputs": [],
   "source": [
    "def checkForDivergence(tots, index):\n",
    "    sums = count_sums()\n",
    "    if tots != sums:\n",
    "        divergence.append((index, sums, tots))"
   ]
  },
  {
   "cell_type": "code",
   "execution_count": null,
   "metadata": {},
   "outputs": [],
   "source": [
    "sum_check = True\n",
    "gt_check = False\n",
    "for i in range(data.shape[0]):\n",
    "    sums = count_sums()\n",
    "\n",
    "    main_info = json.loads(data.iloc[i,3])\n",
    "\n",
    "    total_data = main_info['total']     \n",
    "    goal_data = main_info['goal']\n",
    "    fill_goals(goal_data)\n",
    "    \n",
    "    checkForDivergence(count_totals(total_data), i)\n"
   ]
  },
  {
   "cell_type": "markdown",
   "metadata": {},
   "source": [
    "## aq vbazrobt rom sainteresoa ra xdebaaa\n"
   ]
  },
  {
   "cell_type": "code",
   "execution_count": null,
   "metadata": {},
   "outputs": [],
   "source": [
    "for index in range(20):\n",
    "    print(divergence[index])"
   ]
  },
  {
   "cell_type": "code",
   "execution_count": null,
   "metadata": {},
   "outputs": [],
   "source": []
  }
 ],
 "metadata": {
  "kernelspec": {
   "display_name": "Python 3",
   "language": "python",
   "name": "python3"
  },
  "language_info": {
   "codemirror_mode": {
    "name": "ipython",
    "version": 3
   },
   "file_extension": ".py",
   "mimetype": "text/x-python",
   "name": "python",
   "nbconvert_exporter": "python",
   "pygments_lexer": "ipython3",
   "version": "3.8.5"
  }
 },
 "nbformat": 4,
 "nbformat_minor": 4
}
