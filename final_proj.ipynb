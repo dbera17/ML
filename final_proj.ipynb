{
 "cells": [
  {
   "cell_type": "code",
   "execution_count": 1,
   "metadata": {},
   "outputs": [],
   "source": [
    "import numpy as np\n",
    "import pandas as pd\n",
    "import seaborn as sns\n",
    "import math\n",
    "import random\n",
    "import matplotlib.pyplot as plt\n",
    "from scipy import stats\n",
    "\n",
    "import json\n",
    "from datetime import timedelta, date, datetime\n",
    "%matplotlib inline"
   ]
  },
  {
   "cell_type": "code",
   "execution_count": 2,
   "metadata": {},
   "outputs": [],
   "source": [
    "import warnings\n",
    "warnings.filterwarnings('ignore')"
   ]
  },
  {
   "cell_type": "code",
   "execution_count": 3,
   "metadata": {},
   "outputs": [
    {
     "data": {
      "text/html": [
       "<div>\n",
       "<style scoped>\n",
       "    .dataframe tbody tr th:only-of-type {\n",
       "        vertical-align: middle;\n",
       "    }\n",
       "\n",
       "    .dataframe tbody tr th {\n",
       "        vertical-align: top;\n",
       "    }\n",
       "\n",
       "    .dataframe thead th {\n",
       "        text-align: right;\n",
       "    }\n",
       "</style>\n",
       "<table border=\"1\" class=\"dataframe\">\n",
       "  <thead>\n",
       "    <tr style=\"text-align: right;\">\n",
       "      <th></th>\n",
       "      <th>1</th>\n",
       "      <th>2014-09-14</th>\n",
       "      <th>[{\"meal\": \"MY food\", \"dishes\": [{\"nutritions\": [{\"name\": \"Calories\", \"value\": \"412\"}, {\"name\": \"Carbs\", \"value\": \"29\"}, {\"name\": \"Fat\", \"value\": \"24\"}, {\"name\": \"Protein\", \"value\": \"21\"}, {\"name\": \"Sodium\", \"value\": \"258\"}, {\"name\": \"Sugar\", \"value\": \"29\"}], \"name\": \"my - McDonalds Espresso Pronto\\u00ae Flat White, 2 TALL\"}, {\"nutritions\": [{\"name\": \"Calories\", \"value\": \"170\"}, {\"name\": \"Carbs\", \"value\": \"25\"}, {\"name\": \"Fat\", \"value\": \"5\"}, {\"name\": \"Protein\", \"value\": \"20\"}, {\"name\": \"Sodium\", \"value\": \"260\"}, {\"name\": \"Sugar\", \"value\": \"2\"}], \"name\": \"Quest Bar - Banana Nut Muffin Natural Protein Bar, 60 g\"}, {\"nutritions\": [{\"name\": \"Calories\", \"value\": \"176\"}, {\"name\": \"Carbs\", \"value\": \"33\"}, {\"name\": \"Fat\", \"value\": \"1\"}, {\"name\": \"Protein\", \"value\": \"5\"}, {\"name\": \"Sodium\", \"value\": \"195\"}, {\"name\": \"Sugar\", \"value\": \"0\"}], \"name\": \"Uncle Tobys Australia - Vita Brits, 3 Biscuits 33.3g\"}, {\"nutritions\": [{\"name\": \"Calories\", \"value\": \"342\"}, {\"name\": \"Carbs\", \"value\": \"34\"}, {\"name\": \"Fat\", \"value\": \"12\"}, {\"name\": \"Protein\", \"value\": \"24\"}, {\"name\": \"Sodium\", \"value\": \"402\"}, {\"name\": \"Sugar\", \"value\": \"34\"}], \"name\": \"Pauls - Smarter White Milk, 600 ml\"}, {\"nutritions\": [{\"name\": \"Calories\", \"value\": \"180\"}, {\"name\": \"Carbs\", \"value\": \"22\"}, {\"name\": \"Fat\", \"value\": \"7\"}, {\"name\": \"Protein\", \"value\": \"21\"}, {\"name\": \"Sodium\", \"value\": \"310\"}, {\"name\": \"Sugar\", \"value\": \"1\"}], \"name\": \"Quest Bar - Cookies and Cream, 1 bar\"}, {\"nutritions\": [{\"name\": \"Calories\", \"value\": \"180\"}, {\"name\": \"Carbs\", \"value\": \"46\"}, {\"name\": \"Fat\", \"value\": \"0\"}, {\"name\": \"Protein\", \"value\": \"0\"}, {\"name\": \"Sodium\", \"value\": \"100\"}, {\"name\": \"Sugar\", \"value\": \"22\"}], \"name\": \"Gu Sports - Chomps, 8 pieces\"}, {\"nutritions\": [{\"name\": \"Calories\", \"value\": \"170\"}, {\"name\": \"Carbs\", \"value\": \"25\"}, {\"name\": \"Fat\", \"value\": \"5\"}, {\"name\": \"Protein\", \"value\": \"20\"}, {\"name\": \"Sodium\", \"value\": \"260\"}, {\"name\": \"Sugar\", \"value\": \"2\"}], \"name\": \"Quest Bar - Banana Nut Muffin Natural Protein Bar, 60 g\"}, {\"nutritions\": [{\"name\": \"Calories\", \"value\": \"160\"}, {\"name\": \"Carbs\", \"value\": \"25\"}, {\"name\": \"Fat\", \"value\": \"5\"}, {\"name\": \"Protein\", \"value\": \"20\"}, {\"name\": \"Sodium\", \"value\": \"240\"}, {\"name\": \"Sugar\", \"value\": \"2\"}], \"name\": \"Quest - Protein Bar Chocolate Peanut Butter, 1 bar (60 g)\"}, {\"nutritions\": [{\"name\": \"Calories\", \"value\": \"686\"}, {\"name\": \"Carbs\", \"value\": \"59\"}, {\"name\": \"Fat\", \"value\": \"31\"}, {\"name\": \"Protein\", \"value\": \"40\"}, {\"name\": \"Sodium\", \"value\": \"1,105\"}, {\"name\": \"Sugar\", \"value\": \"9\"}], \"name\": \"Grilld - Simply Grilled (Real), 1.25 burger\"}, {\"nutritions\": [{\"name\": \"Calories\", \"value\": \"252\"}, {\"name\": \"Carbs\", \"value\": \"27\"}, {\"name\": \"Fat\", \"value\": \"14\"}, {\"name\": \"Protein\", \"value\": \"5\"}, {\"name\": \"Sodium\", \"value\": \"352\"}, {\"name\": \"Sugar\", \"value\": \"1\"}], \"name\": \"Grilld - Snack Chips, 1 snack size\"}, {\"nutritions\": [{\"name\": \"Calories\", \"value\": \"196\"}, {\"name\": \"Carbs\", \"value\": \"15\"}, {\"name\": \"Fat\", \"value\": \"10\"}, {\"name\": \"Protein\", \"value\": \"10\"}, {\"name\": \"Sodium\", \"value\": \"176\"}, {\"name\": \"Sugar\", \"value\": \"7\"}], \"name\": \"Tasti - Salted Caramel Protein Bar, 40 g\"}], \"sequence\": 1}]</th>\n",
       "      <th>{\"total\": [{\"name\": \"Calories\", \"value\": 2924}, {\"name\": \"Carbs\", \"value\": 340}, {\"name\": \"Fat\", \"value\": 114}, {\"name\": \"Protein\", \"value\": 186}, {\"name\": \"Sodium\", \"value\": 3658}, {\"name\": \"Sugar\", \"value\": 109}], \"goal\": [{\"name\": \"Calories\", \"value\": 3173}, {\"name\": \"Carbs\", \"value\": 396}, {\"name\": \"Fat\", \"value\": 105}, {\"name\": \"Protein\", \"value\": 160}, {\"name\": \"Sodium\", \"value\": 2300}, {\"name\": \"Sugar\", \"value\": 119}]}</th>\n",
       "    </tr>\n",
       "  </thead>\n",
       "  <tbody>\n",
       "    <tr>\n",
       "      <th>0</th>\n",
       "      <td>1</td>\n",
       "      <td>2014-09-15</td>\n",
       "      <td>[{\"meal\": \"MY food\", \"dishes\": [{\"nutritions\":...</td>\n",
       "      <td>{\"total\": [{\"name\": \"Calories\", \"value\": 2430}...</td>\n",
       "    </tr>\n",
       "    <tr>\n",
       "      <th>1</th>\n",
       "      <td>1</td>\n",
       "      <td>2014-09-16</td>\n",
       "      <td>[{\"meal\": \"MY food\", \"dishes\": [{\"nutritions\":...</td>\n",
       "      <td>{\"total\": [{\"name\": \"Calories\", \"value\": 1862}...</td>\n",
       "    </tr>\n",
       "    <tr>\n",
       "      <th>2</th>\n",
       "      <td>1</td>\n",
       "      <td>2014-09-17</td>\n",
       "      <td>[{\"meal\": \"MY food\", \"dishes\": [{\"nutritions\":...</td>\n",
       "      <td>{\"total\": [{\"name\": \"Calories\", \"value\": 2251}...</td>\n",
       "    </tr>\n",
       "    <tr>\n",
       "      <th>3</th>\n",
       "      <td>1</td>\n",
       "      <td>2014-09-18</td>\n",
       "      <td>[{\"meal\": \"MY food\", \"dishes\": [{\"nutritions\":...</td>\n",
       "      <td>{\"total\": [{\"name\": \"Calories\", \"value\": 2001}...</td>\n",
       "    </tr>\n",
       "    <tr>\n",
       "      <th>4</th>\n",
       "      <td>1</td>\n",
       "      <td>2014-09-19</td>\n",
       "      <td>[{\"meal\": \"MY food\", \"dishes\": [{\"nutritions\":...</td>\n",
       "      <td>{\"total\": [{\"name\": \"Calories\", \"value\": 2158}...</td>\n",
       "    </tr>\n",
       "    <tr>\n",
       "      <th>...</th>\n",
       "      <td>...</td>\n",
       "      <td>...</td>\n",
       "      <td>...</td>\n",
       "      <td>...</td>\n",
       "    </tr>\n",
       "    <tr>\n",
       "      <th>587181</th>\n",
       "      <td>9897</td>\n",
       "      <td>2015-03-02</td>\n",
       "      <td>[{\"meal\": \"Breakfast\", \"dishes\": [{\"nutritions...</td>\n",
       "      <td>{\"total\": [{\"name\": \"Calories\", \"value\": 1979}...</td>\n",
       "    </tr>\n",
       "    <tr>\n",
       "      <th>587182</th>\n",
       "      <td>9897</td>\n",
       "      <td>2015-03-03</td>\n",
       "      <td>[{\"meal\": \"Breakfast\", \"dishes\": [{\"nutritions...</td>\n",
       "      <td>{\"total\": [{\"name\": \"Calories\", \"value\": 2141}...</td>\n",
       "    </tr>\n",
       "    <tr>\n",
       "      <th>587183</th>\n",
       "      <td>9897</td>\n",
       "      <td>2015-03-04</td>\n",
       "      <td>[{\"meal\": \"Breakfast\", \"dishes\": [{\"nutritions...</td>\n",
       "      <td>{\"total\": [{\"name\": \"Calories\", \"value\": 543},...</td>\n",
       "    </tr>\n",
       "    <tr>\n",
       "      <th>587184</th>\n",
       "      <td>9897</td>\n",
       "      <td>2015-03-14</td>\n",
       "      <td>[{\"meal\": \"Breakfast\", \"dishes\": [{\"nutritions...</td>\n",
       "      <td>{\"total\": [{\"name\": \"Calories\", \"value\": 2024}...</td>\n",
       "    </tr>\n",
       "    <tr>\n",
       "      <th>587185</th>\n",
       "      <td>9897</td>\n",
       "      <td>2015-03-15</td>\n",
       "      <td>[{\"meal\": \"Breakfast\", \"dishes\": [{\"nutritions...</td>\n",
       "      <td>{\"total\": [{\"name\": \"Calories\", \"value\": 1496}...</td>\n",
       "    </tr>\n",
       "  </tbody>\n",
       "</table>\n",
       "<p>587186 rows × 4 columns</p>\n",
       "</div>"
      ],
      "text/plain": [
       "           1  2014-09-14  \\\n",
       "0          1  2014-09-15   \n",
       "1          1  2014-09-16   \n",
       "2          1  2014-09-17   \n",
       "3          1  2014-09-18   \n",
       "4          1  2014-09-19   \n",
       "...      ...         ...   \n",
       "587181  9897  2015-03-02   \n",
       "587182  9897  2015-03-03   \n",
       "587183  9897  2015-03-04   \n",
       "587184  9897  2015-03-14   \n",
       "587185  9897  2015-03-15   \n",
       "\n",
       "       [{\"meal\": \"MY food\", \"dishes\": [{\"nutritions\": [{\"name\": \"Calories\", \"value\": \"412\"}, {\"name\": \"Carbs\", \"value\": \"29\"}, {\"name\": \"Fat\", \"value\": \"24\"}, {\"name\": \"Protein\", \"value\": \"21\"}, {\"name\": \"Sodium\", \"value\": \"258\"}, {\"name\": \"Sugar\", \"value\": \"29\"}], \"name\": \"my - McDonalds Espresso Pronto\\u00ae Flat White, 2 TALL\"}, {\"nutritions\": [{\"name\": \"Calories\", \"value\": \"170\"}, {\"name\": \"Carbs\", \"value\": \"25\"}, {\"name\": \"Fat\", \"value\": \"5\"}, {\"name\": \"Protein\", \"value\": \"20\"}, {\"name\": \"Sodium\", \"value\": \"260\"}, {\"name\": \"Sugar\", \"value\": \"2\"}], \"name\": \"Quest Bar - Banana Nut Muffin Natural Protein Bar, 60 g\"}, {\"nutritions\": [{\"name\": \"Calories\", \"value\": \"176\"}, {\"name\": \"Carbs\", \"value\": \"33\"}, {\"name\": \"Fat\", \"value\": \"1\"}, {\"name\": \"Protein\", \"value\": \"5\"}, {\"name\": \"Sodium\", \"value\": \"195\"}, {\"name\": \"Sugar\", \"value\": \"0\"}], \"name\": \"Uncle Tobys Australia - Vita Brits, 3 Biscuits 33.3g\"}, {\"nutritions\": [{\"name\": \"Calories\", \"value\": \"342\"}, {\"name\": \"Carbs\", \"value\": \"34\"}, {\"name\": \"Fat\", \"value\": \"12\"}, {\"name\": \"Protein\", \"value\": \"24\"}, {\"name\": \"Sodium\", \"value\": \"402\"}, {\"name\": \"Sugar\", \"value\": \"34\"}], \"name\": \"Pauls - Smarter White Milk, 600 ml\"}, {\"nutritions\": [{\"name\": \"Calories\", \"value\": \"180\"}, {\"name\": \"Carbs\", \"value\": \"22\"}, {\"name\": \"Fat\", \"value\": \"7\"}, {\"name\": \"Protein\", \"value\": \"21\"}, {\"name\": \"Sodium\", \"value\": \"310\"}, {\"name\": \"Sugar\", \"value\": \"1\"}], \"name\": \"Quest Bar - Cookies and Cream, 1 bar\"}, {\"nutritions\": [{\"name\": \"Calories\", \"value\": \"180\"}, {\"name\": \"Carbs\", \"value\": \"46\"}, {\"name\": \"Fat\", \"value\": \"0\"}, {\"name\": \"Protein\", \"value\": \"0\"}, {\"name\": \"Sodium\", \"value\": \"100\"}, {\"name\": \"Sugar\", \"value\": \"22\"}], \"name\": \"Gu Sports - Chomps, 8 pieces\"}, {\"nutritions\": [{\"name\": \"Calories\", \"value\": \"170\"}, {\"name\": \"Carbs\", \"value\": \"25\"}, {\"name\": \"Fat\", \"value\": \"5\"}, {\"name\": \"Protein\", \"value\": \"20\"}, {\"name\": \"Sodium\", \"value\": \"260\"}, {\"name\": \"Sugar\", \"value\": \"2\"}], \"name\": \"Quest Bar - Banana Nut Muffin Natural Protein Bar, 60 g\"}, {\"nutritions\": [{\"name\": \"Calories\", \"value\": \"160\"}, {\"name\": \"Carbs\", \"value\": \"25\"}, {\"name\": \"Fat\", \"value\": \"5\"}, {\"name\": \"Protein\", \"value\": \"20\"}, {\"name\": \"Sodium\", \"value\": \"240\"}, {\"name\": \"Sugar\", \"value\": \"2\"}], \"name\": \"Quest - Protein Bar Chocolate Peanut Butter, 1 bar (60 g)\"}, {\"nutritions\": [{\"name\": \"Calories\", \"value\": \"686\"}, {\"name\": \"Carbs\", \"value\": \"59\"}, {\"name\": \"Fat\", \"value\": \"31\"}, {\"name\": \"Protein\", \"value\": \"40\"}, {\"name\": \"Sodium\", \"value\": \"1,105\"}, {\"name\": \"Sugar\", \"value\": \"9\"}], \"name\": \"Grilld - Simply Grilled (Real), 1.25 burger\"}, {\"nutritions\": [{\"name\": \"Calories\", \"value\": \"252\"}, {\"name\": \"Carbs\", \"value\": \"27\"}, {\"name\": \"Fat\", \"value\": \"14\"}, {\"name\": \"Protein\", \"value\": \"5\"}, {\"name\": \"Sodium\", \"value\": \"352\"}, {\"name\": \"Sugar\", \"value\": \"1\"}], \"name\": \"Grilld - Snack Chips, 1 snack size\"}, {\"nutritions\": [{\"name\": \"Calories\", \"value\": \"196\"}, {\"name\": \"Carbs\", \"value\": \"15\"}, {\"name\": \"Fat\", \"value\": \"10\"}, {\"name\": \"Protein\", \"value\": \"10\"}, {\"name\": \"Sodium\", \"value\": \"176\"}, {\"name\": \"Sugar\", \"value\": \"7\"}], \"name\": \"Tasti - Salted Caramel Protein Bar, 40 g\"}], \"sequence\": 1}]  \\\n",
       "0       [{\"meal\": \"MY food\", \"dishes\": [{\"nutritions\":...                                                                                                                                                                                                                                                                                                                                                                                                                                                                                                                                                                                                                                                                                                                                                                                                                                                                                                                                                                                                                                                                                                                                                                                                                                                                                                                                                                                                                                                                                                                                                                                                                                                                                                                                                                                                                                                                                                                                                                                                                                                                                                                                                                                                                                                                                                                                                                                                                                                                                                                                                                                                                                                                                                                                                                                                                                                                                                                                                                                                                                                                                                                                                                                                                                           \n",
       "1       [{\"meal\": \"MY food\", \"dishes\": [{\"nutritions\":...                                                                                                                                                                                                                                                                                                                                                                                                                                                                                                                                                                                                                                                                                                                                                                                                                                                                                                                                                                                                                                                                                                                                                                                                                                                                                                                                                                                                                                                                                                                                                                                                                                                                                                                                                                                                                                                                                                                                                                                                                                                                                                                                                                                                                                                                                                                                                                                                                                                                                                                                                                                                                                                                                                                                                                                                                                                                                                                                                                                                                                                                                                                                                                                                                                           \n",
       "2       [{\"meal\": \"MY food\", \"dishes\": [{\"nutritions\":...                                                                                                                                                                                                                                                                                                                                                                                                                                                                                                                                                                                                                                                                                                                                                                                                                                                                                                                                                                                                                                                                                                                                                                                                                                                                                                                                                                                                                                                                                                                                                                                                                                                                                                                                                                                                                                                                                                                                                                                                                                                                                                                                                                                                                                                                                                                                                                                                                                                                                                                                                                                                                                                                                                                                                                                                                                                                                                                                                                                                                                                                                                                                                                                                                                           \n",
       "3       [{\"meal\": \"MY food\", \"dishes\": [{\"nutritions\":...                                                                                                                                                                                                                                                                                                                                                                                                                                                                                                                                                                                                                                                                                                                                                                                                                                                                                                                                                                                                                                                                                                                                                                                                                                                                                                                                                                                                                                                                                                                                                                                                                                                                                                                                                                                                                                                                                                                                                                                                                                                                                                                                                                                                                                                                                                                                                                                                                                                                                                                                                                                                                                                                                                                                                                                                                                                                                                                                                                                                                                                                                                                                                                                                                                           \n",
       "4       [{\"meal\": \"MY food\", \"dishes\": [{\"nutritions\":...                                                                                                                                                                                                                                                                                                                                                                                                                                                                                                                                                                                                                                                                                                                                                                                                                                                                                                                                                                                                                                                                                                                                                                                                                                                                                                                                                                                                                                                                                                                                                                                                                                                                                                                                                                                                                                                                                                                                                                                                                                                                                                                                                                                                                                                                                                                                                                                                                                                                                                                                                                                                                                                                                                                                                                                                                                                                                                                                                                                                                                                                                                                                                                                                                                           \n",
       "...                                                   ...                                                                                                                                                                                                                                                                                                                                                                                                                                                                                                                                                                                                                                                                                                                                                                                                                                                                                                                                                                                                                                                                                                                                                                                                                                                                                                                                                                                                                                                                                                                                                                                                                                                                                                                                                                                                                                                                                                                                                                                                                                                                                                                                                                                                                                                                                                                                                                                                                                                                                                                                                                                                                                                                                                                                                                                                                                                                                                                                                                                                                                                                                                                                                                                                                                           \n",
       "587181  [{\"meal\": \"Breakfast\", \"dishes\": [{\"nutritions...                                                                                                                                                                                                                                                                                                                                                                                                                                                                                                                                                                                                                                                                                                                                                                                                                                                                                                                                                                                                                                                                                                                                                                                                                                                                                                                                                                                                                                                                                                                                                                                                                                                                                                                                                                                                                                                                                                                                                                                                                                                                                                                                                                                                                                                                                                                                                                                                                                                                                                                                                                                                                                                                                                                                                                                                                                                                                                                                                                                                                                                                                                                                                                                                                                           \n",
       "587182  [{\"meal\": \"Breakfast\", \"dishes\": [{\"nutritions...                                                                                                                                                                                                                                                                                                                                                                                                                                                                                                                                                                                                                                                                                                                                                                                                                                                                                                                                                                                                                                                                                                                                                                                                                                                                                                                                                                                                                                                                                                                                                                                                                                                                                                                                                                                                                                                                                                                                                                                                                                                                                                                                                                                                                                                                                                                                                                                                                                                                                                                                                                                                                                                                                                                                                                                                                                                                                                                                                                                                                                                                                                                                                                                                                                           \n",
       "587183  [{\"meal\": \"Breakfast\", \"dishes\": [{\"nutritions...                                                                                                                                                                                                                                                                                                                                                                                                                                                                                                                                                                                                                                                                                                                                                                                                                                                                                                                                                                                                                                                                                                                                                                                                                                                                                                                                                                                                                                                                                                                                                                                                                                                                                                                                                                                                                                                                                                                                                                                                                                                                                                                                                                                                                                                                                                                                                                                                                                                                                                                                                                                                                                                                                                                                                                                                                                                                                                                                                                                                                                                                                                                                                                                                                                           \n",
       "587184  [{\"meal\": \"Breakfast\", \"dishes\": [{\"nutritions...                                                                                                                                                                                                                                                                                                                                                                                                                                                                                                                                                                                                                                                                                                                                                                                                                                                                                                                                                                                                                                                                                                                                                                                                                                                                                                                                                                                                                                                                                                                                                                                                                                                                                                                                                                                                                                                                                                                                                                                                                                                                                                                                                                                                                                                                                                                                                                                                                                                                                                                                                                                                                                                                                                                                                                                                                                                                                                                                                                                                                                                                                                                                                                                                                                           \n",
       "587185  [{\"meal\": \"Breakfast\", \"dishes\": [{\"nutritions...                                                                                                                                                                                                                                                                                                                                                                                                                                                                                                                                                                                                                                                                                                                                                                                                                                                                                                                                                                                                                                                                                                                                                                                                                                                                                                                                                                                                                                                                                                                                                                                                                                                                                                                                                                                                                                                                                                                                                                                                                                                                                                                                                                                                                                                                                                                                                                                                                                                                                                                                                                                                                                                                                                                                                                                                                                                                                                                                                                                                                                                                                                                                                                                                                                           \n",
       "\n",
       "       {\"total\": [{\"name\": \"Calories\", \"value\": 2924}, {\"name\": \"Carbs\", \"value\": 340}, {\"name\": \"Fat\", \"value\": 114}, {\"name\": \"Protein\", \"value\": 186}, {\"name\": \"Sodium\", \"value\": 3658}, {\"name\": \"Sugar\", \"value\": 109}], \"goal\": [{\"name\": \"Calories\", \"value\": 3173}, {\"name\": \"Carbs\", \"value\": 396}, {\"name\": \"Fat\", \"value\": 105}, {\"name\": \"Protein\", \"value\": 160}, {\"name\": \"Sodium\", \"value\": 2300}, {\"name\": \"Sugar\", \"value\": 119}]}  \n",
       "0       {\"total\": [{\"name\": \"Calories\", \"value\": 2430}...                                                                                                                                                                                                                                                                                                                                                                                             \n",
       "1       {\"total\": [{\"name\": \"Calories\", \"value\": 1862}...                                                                                                                                                                                                                                                                                                                                                                                             \n",
       "2       {\"total\": [{\"name\": \"Calories\", \"value\": 2251}...                                                                                                                                                                                                                                                                                                                                                                                             \n",
       "3       {\"total\": [{\"name\": \"Calories\", \"value\": 2001}...                                                                                                                                                                                                                                                                                                                                                                                             \n",
       "4       {\"total\": [{\"name\": \"Calories\", \"value\": 2158}...                                                                                                                                                                                                                                                                                                                                                                                             \n",
       "...                                                   ...                                                                                                                                                                                                                                                                                                                                                                                             \n",
       "587181  {\"total\": [{\"name\": \"Calories\", \"value\": 1979}...                                                                                                                                                                                                                                                                                                                                                                                             \n",
       "587182  {\"total\": [{\"name\": \"Calories\", \"value\": 2141}...                                                                                                                                                                                                                                                                                                                                                                                             \n",
       "587183  {\"total\": [{\"name\": \"Calories\", \"value\": 543},...                                                                                                                                                                                                                                                                                                                                                                                             \n",
       "587184  {\"total\": [{\"name\": \"Calories\", \"value\": 2024}...                                                                                                                                                                                                                                                                                                                                                                                             \n",
       "587185  {\"total\": [{\"name\": \"Calories\", \"value\": 1496}...                                                                                                                                                                                                                                                                                                                                                                                             \n",
       "\n",
       "[587186 rows x 4 columns]"
      ]
     },
     "execution_count": 3,
     "metadata": {},
     "output_type": "execute_result"
    }
   ],
   "source": [
    "import os\n",
    "path = os.getcwd() + '/mfp-diaries.tsv'\n",
    "data = pd.read_csv(path, sep='\\t')\n",
    "data"
   ]
  },
  {
   "cell_type": "markdown",
   "metadata": {},
   "source": [
    " მონაცემების საკმაოდ მოცულობითია 587186 სტრიქონი 4 სვეტზე. თითოეული სტიქონისთვის გვაქს აიდი, რომელიც იუზერის მაინდიფიცირებელი რიცხვია(1) , გვაქვს თარიღი(2), რომელ დღესაც იუზერმა შეიყვანა აპლიკაციაში მონაცემები. გვაქვს თვითონ მონაცემები , რომელიც იუზერმა შეიყვანა (3) . ეს მონაცემები დიქშენერების მასივი , რომელშიცი ისევ დიქშენერებია. თითოეულ ელემენტს აქვს საჭმლის სახელი, შემცველი ნუტრიენტები(ცილები , ცხიმები , ნახშირწყლები ... ).მეოთხე სვეტში არის ტოტალური რაოდენობა ნუტრიენტების და მიზანი . ანუ რა მიზანი ჰქონდა დასახული აპლიკაციას და რა რაოდენობის ნუტრიენტები მოიხმარა მომხმარებელმა . ერთი შეხედვით მონაცემები ისეთი სახითაა წარმოდგენილი , რომ სავარაუდოდ ანომალიათა და დივერგენციების რაოდენობა საკმაოდ იქნება . \n",
    "### დავიწყოთ ამ მონაცემების დაპარსვა,  და მათი გასუფთავება  ."
   ]
  },
  {
   "cell_type": "markdown",
   "metadata": {},
   "source": [
    "შევხედოთ დროის რა მონაკვეთში არის მონაცემები ასახული ."
   ]
  },
  {
   "cell_type": "code",
   "execution_count": 4,
   "metadata": {},
   "outputs": [
    {
     "name": "stdout",
     "output_type": "stream",
     "text": [
      "First Date:  2014-09-14\n",
      "Last Date:  2015-04-09\n"
     ]
    }
   ],
   "source": [
    "print(\"First Date: \", data[data.columns[1]].unique().min())\n",
    "print(\"Last Date: \",data[data.columns[1]].unique().max())"
   ]
  },
  {
   "cell_type": "markdown",
   "metadata": {},
   "source": [
    "შევხედოთ რამდენი განსხვავებული თარიღი გვხვდება"
   ]
  },
  {
   "cell_type": "code",
   "execution_count": 5,
   "metadata": {},
   "outputs": [
    {
     "name": "stdout",
     "output_type": "stream",
     "text": [
      "unique dates:  208\n"
     ]
    }
   ],
   "source": [
    "uniques = data[data.columns[1]].unique()\n",
    "print(\"unique dates: \", len(uniques))\n",
    "start = datetime.strptime('2014-09-14','%Y-%m-%d').date()\n",
    "end = datetime.strptime('2015-04-09','%Y-%m-%d').date()"
   ]
  },
  {
   "cell_type": "markdown",
   "metadata": {},
   "source": [
    "როგორც ვხედავთ თარიღების დუპლიკაცია არაა რადგან 2015-04-09 - 2014-09-14 = 208 დღეს\n",
    "ვნახოთ როგორი სიხშირით იყენებდა ხალხი აპლიკაციას. ეს საშუალებას მოგვცემს განვსაზღვროთ როგორი დინამიკა იყო ამ დროის პერიოდის განმავლობაში."
   ]
  },
  {
   "cell_type": "code",
   "execution_count": 6,
   "metadata": {},
   "outputs": [],
   "source": [
    "user_activity = np.zeros(data[data.columns[0]].unique().max())\n",
    "for i in range( int((end-start).days)+1):\n",
    "    dat = start+timedelta(i)\n",
    "    dat_str = dat.strftime('%Y-%m-%d')\n",
    "    curr_dt = data[data[data.columns[1]]==dat_str]\n",
    "    for j in range(curr_dt.shape[0]):\n",
    "        user_activity[curr_dt.iloc[j,0]-1]+=1\n"
   ]
  },
  {
   "cell_type": "code",
   "execution_count": 7,
   "metadata": {},
   "outputs": [
    {
     "data": {
      "image/png": "[encoded data removed]",
      "text/plain": [
       "<Figure size 432x288 with 1 Axes>"
      ]
     },
     "metadata": {
      "needs_background": "light"
     },
     "output_type": "display_data"
    }
   ],
   "source": [
    "plt.hist(user_activity, bins=50)\n",
    "plt.ylabel('Frequency')\n",
    "plt.title('Frequency of User Activity')\n",
    "plt.show()"
   ]
  },
  {
   "cell_type": "markdown",
   "metadata": {},
   "source": [
    "როგორც ვხედავთ იუზერების აქტივობა დროის პერიოდის დასაწყისში ბევრად უფრო მეტი იყო და დროთა განმავლობაში დაიკლო ხოლო ბოლოს ისევ მოიმტა. სავარაუდოდ მსგავსი დინამიკა დამოკიდბულია აპლიკაციის გამოსვლის და მისი აქტუალურობის ასპქტთან . ამასთანავე დროის პერიოდი როდესაც ყველაზე მაღალია აქტივობა არის შემოდგომის პერიოდი. ეს მონაცემიც შეგვიძლია გამოვიყენოთ იმის გასაგებად , თუ რა დროს არის ყველაზე მეტი სარგებლის მომტანი აპლიკაციის გაპიარება . "
   ]
  },
  {
   "cell_type": "markdown",
   "metadata": {},
   "source": [
    "როგორც ვნახეთ ზევით , თითოეული საჭმელი შეიცავს გარკვეულ ნუტრიენტებს . ჩვენთვის საინტერესო გახდა რა \n",
    "ნუტრინენტებია მონაცემებში და რა რაოდენობით . სავარაუდოდ ზოგიერთი ნუტრიენტი ნაკლებად იქნება , ზოგიერთი მეტი,\n",
    "რაც  მსგავსი ნუტრიენტების გადაგდების საშუალებას მოგვცემს"
   ]
  },
  {
   "cell_type": "markdown",
   "metadata": {},
   "source": [
    "თითოეულ საჭმელს აქვს dishes პარამეტრი და თითოეულ dish_ში არის ნუტრიენტების მასივი . თითოეულ ნუტრიენტს აქვს სახელი და მისი შესაბამისი რაოდენობა . პრიველ ჯერზე დავთვალოთ რამდენჯერ გვხვდება თითოეული ნუტრიენტი მონაცემებში."
   ]
  },
  {
   "cell_type": "code",
   "execution_count": 8,
   "metadata": {},
   "outputs": [],
   "source": [
    "unique_nutritions = {}\n",
    "for i in range(data.shape[0]):\n",
    "    foods = json.loads(data.iloc[i,2])\n",
    "    for j in range(len(foods)):\n",
    "        dishes = foods[j]['dishes']\n",
    "        \n",
    "        for curr_dish in range(len(dishes)):\n",
    "            nutritions = dishes[curr_dish]['nutritions']\n",
    "            \n",
    "            for n in range(len(nutritions)):\n",
    "                prto_type = nutritions[n]['name']\n",
    "                if prto_type in unique_nutritions.keys():\n",
    "                    unique_nutritions[prto_type]+=1\n",
    "                else:\n",
    "                    unique_nutritions[prto_type] = 1\n",
    "                "
   ]
  },
  {
   "cell_type": "markdown",
   "metadata": {},
   "source": [
    "ჯერ ვნახოთ რამდენი სახის ნუტრიენტები გვაქვს "
   ]
  },
  {
   "cell_type": "code",
   "execution_count": 9,
   "metadata": {},
   "outputs": [
    {
     "name": "stdout",
     "output_type": "stream",
     "text": [
      "dict_keys(['Calories', 'Carbs', 'Fat', 'Protein', 'Sodium', 'Sugar', 'Fiber', 'Potass.', 'Iron', 'Calcium', 'Sat Fat', 'Chol', 'Vit A', 'Vit C', 'Trn Fat', 'Mon Fat', 'Ply Fat'])\n",
      "Num of nutrient types: 17\n"
     ]
    }
   ],
   "source": [
    "print(unique_nutritions.keys())\n",
    "print(\"Num of nutrient types: \"+str(len(unique_nutritions.keys())))"
   ]
  },
  {
   "cell_type": "markdown",
   "metadata": {},
   "source": [
    "ჩვენი პირველი ვარაუდი იყო რომ მაქსიმუმ 5 მახასიათებელი იქნებოდა , თუმცა როგორც ვხედავთ 17 სხვადასხვა სახის ნუტრიენტი გვაქვს"
   ]
  },
  {
   "cell_type": "code",
   "execution_count": 10,
   "metadata": {},
   "outputs": [
    {
     "name": "stdout",
     "output_type": "stream",
     "text": [
      "[('Calories', 6502736), ('Protein', 6428935), ('Carbs', 6332306), ('Fat', 6300927), ('Sodium', 4226233), ('Sugar', 3933313), ('Fiber', 2859976), ('Iron', 367846), ('Calcium', 280697), ('Potass.', 245784), ('Chol', 198545), ('Sat Fat', 190156), ('Vit C', 24166), ('Trn Fat', 16932), ('Ply Fat', 14614), ('Mon Fat', 11282), ('Vit A', 9165)]\n",
      "{'Calories': 6502736, 'Protein': 6428935, 'Carbs': 6332306, 'Fat': 6300927, 'Sodium': 4226233, 'Sugar': 3933313, 'Fiber': 2859976, 'Iron': 367846, 'Calcium': 280697, 'Potass.': 245784, 'Chol': 198545, 'Sat Fat': 190156, 'Vit C': 24166, 'Trn Fat': 16932, 'Ply Fat': 14614, 'Mon Fat': 11282, 'Vit A': 9165}\n"
     ]
    }
   ],
   "source": [
    "sortedNutritions = sorted(unique_nutritions.items(), key=lambda x : x[1], reverse = True)\n",
    "print(sortedNutritions)\n",
    "sortedDictionary = {}\n",
    "for nut in sortedNutritions:\n",
    "    sortedDictionary[nut[0]] = nut[1]\n",
    "print(sortedDictionary)"
   ]
  },
  {
   "cell_type": "code",
   "execution_count": 11,
   "metadata": {
    "scrolled": true
   },
   "outputs": [
    {
     "data": {
      "image/png": "[encoded data removed]",
      "text/plain": [
       "<Figure size 2160x576 with 1 Axes>"
      ]
     },
     "metadata": {
      "needs_background": "light"
     },
     "output_type": "display_data"
    }
   ],
   "source": [
    "plt.figure(figsize=(30,8))\n",
    "plt.bar(x = sortedDictionary.keys(), height = unique_nutritions.values())\n",
    "plt.title('Number of occurrences for each Nutrition')\n",
    "plt.show()"
   ]
  },
  {
   "cell_type": "markdown",
   "metadata": {},
   "source": [
    "ნუტრიენტებში ლიდერობენ კალორიები , პროტეინები , ნახშირწყლები,ცხიმები , შაქარი , ყველაზე მცირე რაოდენობით არის Vit C, Trn Fat,Ply Fat,Mon Fat,Vit A . \n",
    "ვინაიდან მათი რაოდენობა ძალიან მცირეა , გადავწყვიტეთ საერთოდ გადაგვეყარა.\n"
   ]
  },
  {
   "cell_type": "code",
   "execution_count": 12,
   "metadata": {},
   "outputs": [
    {
     "name": "stdout",
     "output_type": "stream",
     "text": [
      "{'Calories': 6502736, 'Protein': 6428935, 'Carbs': 6332306, 'Fat': 6300927, 'Sodium': 4226233, 'Sugar': 3933313, 'Fiber': 2859976}\n"
     ]
    }
   ],
   "source": [
    "filteredNutritions = {}\n",
    "not_needed_prots =['Vit A', 'Vit C', 'Trn Fat', 'Potass.',\n",
    "                    'Mon Fat', 'Ply Fat','Iron','Calcium','Chol','Sat Fat']\n",
    "for nutritionName in sortedDictionary.keys():\n",
    "    if nutritionName not in not_needed_prots:\n",
    "        filteredNutritions[nutritionName] = sortedDictionary[nutritionName]\n",
    "print(filteredNutritions)"
   ]
  },
  {
   "cell_type": "code",
   "execution_count": 13,
   "metadata": {},
   "outputs": [
    {
     "data": {
      "image/png": "[encoded data removed]",
      "text/plain": [
       "<Figure size 1440x576 with 1 Axes>"
      ]
     },
     "metadata": {},
     "output_type": "display_data"
    }
   ],
   "source": [
    "plt.figure(figsize=(20,8))\n",
    "plt.pie(filteredNutritions.values(), labels = filteredNutritions.keys(),autopct = \"%1.1f%%\")\n",
    "plt.show()"
   ]
  },
  {
   "cell_type": "markdown",
   "metadata": {},
   "source": [
    "დავთვალოთ საჭმელების უნიკალური მახასიათებლები 2 პარამეტრად, \n",
    "1.მომხმარებელს რამდენი აქვს შეყვანილი(რამდენი ჭამა)\n",
    "2.მიზანი (აპლიკაციამ რამდენი დაუნიშნა)\n",
    "ვნახოთ არის თუ არა დივერგენცია მონაცემებში და ნამდვილად არის თუ არა ტოტალები ტოლი ცალკეული ნუტრიენტიების ჯამების. \n"
   ]
  },
  {
   "cell_type": "markdown",
   "metadata": {},
   "source": [
    "როგორც აღვნიშნეთ 5 ტიპის ნუტრიენტი გადავაგდეთ, რადგან მათი მაჩვენებლი მნიშვნელოვნად მცირე იყო დანარჩენ ნუტრიენტებთან შედარებით . შესაბამისად დათვლებს მხოლოდ prot_names_ში არსებულ ნუტრიენტებზე გავაკეთებთ.\n"
   ]
  },
  {
   "cell_type": "code",
   "execution_count": 45,
   "metadata": {},
   "outputs": [],
   "source": [
    "prot_names = ['Calories', 'Carbs', 'Fat', 'Protein', \n",
    "         'Sodium', 'Sugar', 'Fiber']"
   ]
  },
  {
   "cell_type": "markdown",
   "metadata": {},
   "source": [
    "ამ ეტაპზე ჩვენი მიზანია ვნახოთ რამდენად სწორია მონაცემები . დავთვალოთ თითოეულ სტრიქონში არსებული ნუტრიენტებისთვის ჯამები თუ ემთხვევა ტოტალების სვეტში არსებულ მნიშვნელობებს . ყოველი დაუმთხვეველი ტიპი ჩავყაროთ მასივში და ვნახოთ რა დივერგენცია ხდება ."
   ]
  },
  {
   "cell_type": "code",
   "execution_count": 15,
   "metadata": {},
   "outputs": [],
   "source": [
    "total_calories = []\n",
    "total_carbs = []\n",
    "total_fat = []\n",
    "total_protein = []\n",
    "total_sodium = []\n",
    "total_sugar = []\n",
    "total_fiber = []\n",
    "\n",
    "\n",
    "totals = [total_calories,total_carbs,total_fat,total_protein,\n",
    "          total_sodium, total_sugar,total_fiber,]"
   ]
  },
  {
   "cell_type": "code",
   "execution_count": 16,
   "metadata": {},
   "outputs": [],
   "source": [
    "def count_totals(tot_data):\n",
    "    result = {}\n",
    "\n",
    "    for curr_tot in tot_data:\n",
    "        prot_name = curr_tot['name']\n",
    "        if prot_name in not_needed_prots:\n",
    "            continue\n",
    "        prot_val = curr_tot['value']\n",
    "        if prot_name not in result.keys():\n",
    "            result[prot_name] = prot_val\n",
    "        else: \n",
    "            result[prot_name] += prot_val\n",
    "        \n",
    "        totals[prot_names.index(prot_name)].append(prot_val)\n",
    "        \n",
    "    return result"
   ]
  },
  {
   "cell_type": "markdown",
   "metadata": {},
   "source": [
    "ასევე ბარემ ამოვიღოთ გოლები რაც დაუწესა აპლიკაციამ მომხმარებელს "
   ]
  },
  {
   "cell_type": "code",
   "execution_count": 17,
   "metadata": {},
   "outputs": [],
   "source": [
    "goal_calories = []\n",
    "goal_carbs = []\n",
    "goal_fat = []\n",
    "goal_protein = []\n",
    "goal_sodium = []\n",
    "goal_sugar = []\n",
    "goal_fiber = []\n",
    "\n",
    "\n",
    "goals = [goal_calories,goal_carbs,goal_fat,goal_protein,\n",
    "         goal_sodium,goal_sugar,goal_fiber]"
   ]
  },
  {
   "cell_type": "code",
   "execution_count": 18,
   "metadata": {},
   "outputs": [],
   "source": [
    "def fill_goals(goal_data):\n",
    "    for curr_goal in goal_data:\n",
    "        prot_name = curr_goal['name']\n",
    "        if prot_name in not_needed_prots:\n",
    "            continue\n",
    "        prot_value = curr_goal['value']\n",
    "        goals[prot_names.index(prot_name)].append(prot_value)"
   ]
  },
  {
   "cell_type": "markdown",
   "metadata": {},
   "source": [
    "### ამათი დანიშნულებაც აღვწეროთ რომ გავერკვევით"
   ]
  },
  {
   "cell_type": "code",
   "execution_count": 19,
   "metadata": {},
   "outputs": [],
   "source": [
    "divergence = []\n",
    "dishes_count = []"
   ]
  },
  {
   "cell_type": "code",
   "execution_count": 20,
   "metadata": {},
   "outputs": [],
   "source": [
    "def replacer(value):\n",
    "    return value.replace(',', '')"
   ]
  },
  {
   "cell_type": "code",
   "execution_count": 21,
   "metadata": {},
   "outputs": [],
   "source": [
    "def count_sums():\n",
    "    result = {}\n",
    "    \n",
    "    dishes = json.loads(data.iloc[i,2])\n",
    "    \n",
    "    for dish in dishes:\n",
    "        dish_per_day = dish['dishes']\n",
    "        dishes_count.append(len(dish_per_day))\n",
    "        \n",
    "        for food in dish_per_day:\n",
    "            nutritions = food['nutritions']\n",
    "            \n",
    "            for prot in nutritions:\n",
    "                prot_name = prot['name']\n",
    "                if prot_name in not_needed_prots:\n",
    "                    continue\n",
    "                prot_val = prot['value']\n",
    "                if prot_name not in result.keys():\n",
    "                    result[prot_name] = int(replacer(prot_val))\n",
    "                else:\n",
    "                    result[prot_name] += int(replacer(prot_val))\n",
    "    \n",
    "    return result"
   ]
  },
  {
   "cell_type": "code",
   "execution_count": 22,
   "metadata": {},
   "outputs": [],
   "source": [
    "def checkForDivergence(tots, index):\n",
    "    sums = count_sums()\n",
    "    if tots != sums:\n",
    "        divergence.append((index, sums, tots))"
   ]
  },
  {
   "cell_type": "code",
   "execution_count": 23,
   "metadata": {},
   "outputs": [],
   "source": [
    "sum_check = True\n",
    "gt_check = False\n",
    "for i in range(data.shape[0]):\n",
    "    sums = count_sums()\n",
    "\n",
    "    main_info = json.loads(data.iloc[i,3])\n",
    "\n",
    "    total_data = main_info['total']     \n",
    "    goal_data = main_info['goal']\n",
    "    fill_goals(goal_data)\n",
    "    \n",
    "    checkForDivergence(count_totals(total_data), i)\n"
   ]
  },
  {
   "cell_type": "code",
   "execution_count": 24,
   "metadata": {},
   "outputs": [
    {
     "name": "stdout",
     "output_type": "stream",
     "text": [
      "918\n",
      "(33612, {'Calories': 3960}, {'Calories': 1980})\n",
      "(33613, {'Calories': 682}, {'Calories': 341})\n",
      "(33614, {'Calories': 5030}, {'Calories': 2515})\n",
      "(33615, {'Calories': 4190}, {'Calories': 2095})\n",
      "(33616, {'Calories': 4462}, {'Calories': 2231})\n",
      "(33617, {'Calories': 190}, {'Calories': 95})\n",
      "(33618, {'Calories': 304}, {'Calories': 152})\n",
      "(33619, {'Calories': 2506}, {'Calories': 1253})\n",
      "(33620, {'Calories': 3400}, {'Calories': 1700})\n",
      "(33621, {'Calories': 2856}, {'Calories': 1428})\n",
      "(33622, {'Calories': 1394}, {'Calories': 697})\n",
      "(33623, {'Calories': 3152}, {'Calories': 1576})\n",
      "(33624, {'Calories': 1116}, {'Calories': 558})\n",
      "(33625, {'Calories': 2432}, {'Calories': 1216})\n",
      "(33626, {'Calories': 2230}, {'Calories': 1115})\n",
      "(33627, {'Calories': 2580}, {'Calories': 1290})\n",
      "(33628, {'Calories': 2146}, {'Calories': 1073})\n",
      "(33629, {'Calories': 4048}, {'Calories': 2024})\n",
      "(33630, {'Calories': 2180}, {'Calories': 1090})\n",
      "(33631, {'Calories': 1192}, {'Calories': 596})\n"
     ]
    }
   ],
   "source": [
    "\n",
    "print(len(divergence))\n",
    "for index in range(20):\n",
    "    print(divergence[index])"
   ]
  },
  {
   "cell_type": "markdown",
   "metadata": {},
   "source": [
    "დივერგენციების სტატუსის შემოწმებისას აღმოჩნდა , რომ 918 ჩანაწერში გვხდება აცდენა ტოტალსა და ხელით აჯამულ მონაცემებს შორის . საინტერესო ფაქტია ის , რომ აცდენილი მნიშვნელობების შეფარდება ზუსტად 2_ის ტოლია. ეს ფაქტი სავარაუდოდ აპლიკაციის ბექენდის გამოა, სადაც მონაცემების გადუბლირება ხდება.  "
   ]
  },
  {
   "cell_type": "markdown",
   "metadata": {},
   "source": [
    "ამასთანავე, დატის დათვალიერებისას , თვალში მოგვხვდა ზოგიერთი მონაცემის უარყოფითობა . გადავწყვიტეთ , რომ გამოვიკვლიოთ მსგავის უარყოფითი მნიშვნელობები "
   ]
  },
  {
   "cell_type": "code",
   "execution_count": 25,
   "metadata": {},
   "outputs": [],
   "source": [
    "negatives = {}\n",
    "for i in range(data.shape[0]):\n",
    "    dcol = json.loads(data.iloc[i,2])\n",
    "    for dish in dcol:\n",
    "        for food in dish['dishes']:\n",
    "            for nutrients in food['nutritions']:\n",
    "                if int(replacer(nutrients['value'])) <0 :\n",
    "                    if food['name'] not in negatives.keys():\n",
    "                        protValTupla = (nutrients['name'],int(replacer(nutrients['value'])))\n",
    "                        protSet = set(protValTupla)\n",
    "                        negatives[food['name']] = [1,protSet]\n",
    "                    else:\n",
    "                        negatives[food['name']][0] += 1\n",
    "                        protValTupla = (nutrients['name'],int(replacer(nutrients['value'])))\n",
    "                        negatives[food['name']][1].add(protValTupla)"
   ]
  },
  {
   "cell_type": "code",
   "execution_count": 26,
   "metadata": {},
   "outputs": [
    {
     "name": "stdout",
     "output_type": "stream",
     "text": [
      "Breastfeeding - -500 Cal Per Day, 1 day [555, {('Carbs', -10), 'Calories', ('Calories', -500), ('Protein', -1), -500, ('Fat', -6), ('Sodium', -23)}]\n",
      "Generic - Breastfeeding Exclusively, 27 oz. [536, {'Calories', ('Calories', -500), -500, ('Carbs', -50), ('Protein', -31), ('Fat', -16)}]\n",
      "Breastfeeding - Toddler -200 Cal, 1 day [280, {'Calories', ('Protein', -8), ('Fiber', -2), ('Carbs', -28), -200, ('Calories', -200), ('Fat', -7)}]\n",
      "Breastfeeding - -300 Cal Per Day, 1 day [230, {('Protein', -10), ('Fiber', -4), 'Calories', -300, ('Fat', -10), ('Protein', -13), ('Carbs', -35), ('Calories', -300), ('Carbs', -45)}]\n",
      "Generic - Breastfeeding Exclusively, 20.25 oz. [168, {'Calories', -375, ('Calories', -375), ('Fat', -12), ('Carbs', -38), ('Protein', -23)}]\n",
      "Breast Feeding - Exclusive, 1 day [136, {-200, 'Calories', ('Calories', -200)}]\n",
      "Ebf - Breastfeeding, 1 oz [132, {'Calories', ('Calories', -500), -500}]\n",
      "Breastfeeding - -500 Calories, 1 serving [95, {('Protein', -10), 'Calories', ('Carbs', -20), ('Fiber', -5), -500, ('Calories', -500), ('Fat', -10)}]\n",
      "Breastfeeding - -, 1 day [87, {'Calories', ('Calories', -250), -250}]\n",
      "Breastfeeding - Toddler -250 Cal, 1 day [76, {('Protein', -10), -250, 'Calories', ('Calories', -250), ('Fat', -9), ('Carbs', -35)}]\n",
      "Breastfeeding - Older Baby -300 Cal, 300 cal [73, {'Calories', -300, ('Calories', -300)}]\n",
      "Breastfeeding - -500 Cal Per Day, 0.67 day [57, {('Fat', -4), ('Calories', -333), 'Calories', ('Protein', -1), -333}]\n",
      "Breastfeeding - Toddler -200 Cal Per Day, 1 day [56, {-200, 'Calories', ('Calories', -200)}]\n",
      "Breast Feeding - Exclusively Nursing , 1 cup [51, {'Calories', ('Calories', -500), -500}]\n",
      "Generic - Breastfeeding, 25 oz. [36, {('Fat', -14), ('Carbs', -78), 'Calories', ('Calories', -500), -500, ('Protein', -15)}]\n",
      "Breastfeeding - Breastfeeding -500 Calories Per Day, 1 day [31, {'Calories', ('Calories', -500), -500}]\n",
      "Breastfeeding - Breastfeeding - Producing Breastmilk, 30 ounces [28, {('Fat', -20), 'Calories', ('Protein', -21), ('Calories', -500), -500, ('Carbs', -50)}]\n",
      "Breastfeeding - Nursing Mother, 25 oz [20, {('Fat', -30), 'Calories', ('Sugar', -50), ('Protein', -8), -500, ('Calories', -500), ('Carbs', -50)}]\n",
      "Breastfeeding - 3-6 Month Old Baby, 1 day [19, {-400, 'Calories', ('Calories', -400)}]\n",
      "Making Mommy's Milk - Breastfeeding -500 Cal Per Day, 1 day [17, {'Calories', ('Calories', -500), -500}]\n",
      "Chocolate covered Katie - Fudge Babies, -2 serving(s) [12, {'Calories', ('Carbs', -14), ('Protein', -2), ('Sodium', -1), -81, ('Fat', -3), ('Sugar', -10), ('Calories', -81)}]\n",
      "Apples - Raw, without skin, -0.25 medium (2-3/4\" dia) (approx 3 per lb) [12, {('Carbs', -4), 'Calories', ('Calories', -15), -15, ('Sugar', -3)}]\n",
      "CUSTOM ADJUST - fiber (subtract carbs and calories), 33 g [10, {('Calories', -66), ('Carbs', -33), 'Calories', ('Carbs', -17), -66}]\n",
      "Breastfeeding - -500 Calories, 0.5 serving [10, {-250, ('Carbs', -10), 'Calories', ('Fat', -5), ('Calories', -250), ('Protein', -5), ('Fiber', -3)}]\n",
      "Allrecipes.Com - Pico De Gallo, 3/4 cup [10, {('Calories', -21), 'Calories', -21, ('Protein', -1), ('Sodium', -76), ('Fiber', -1), ('Carbs', -5)}]\n",
      "Workout Day, 1 day [10, {'Calories', -397, ('Calories', -397), ('Carbs', -122)}]\n",
      "Generic - Romaine Lettuce- 2 Leafs, 6 leafs [9, {'Protein', ('Sodium', -3), ('Sugar', -3), ('Protein', -3), -3}]\n",
      "CUSTOM ADJUST - fiber (subtract carbs and calories), 27 g [8, {'Calories', -54, ('Carbs', -14), ('Calories', -54), ('Carbs', -27)}]\n",
      "CUSTOM ADJUST - fiber (subtract carbs and calories), 24 g [8, {-48, 'Calories', ('Calories', -48), ('Carbs', -24)}]\n",
      "Generic - Torta Bread (Mexican Bread Rolls for Tortas), -1 roll [6, {-220, ('Sugar', -1), ('Carbs', -39), 'Calories', ('Fat', -1), ('Fiber', -2), ('Protein', -6)}]\n",
      "Guerrero - Tortilla, Corn, Small, -3 Tortillas [6, {('Carbs', -33), 'Calories', ('Fiber', -5), ('Fat', -2), ('Sugar', -3), ('Protein', -3), -165}]\n",
      "CUSTOM ADJUST - fiber (subtract carbs and calories), 31 g [6, {('Calories', -62), 'Calories', -62, ('Carbs', -31)}]\n",
      "CUSTOM ADJUST - fiber (subtract carbs and calories), 19 g [6, {('Calories', -38), 'Calories', -38, ('Carbs', -19)}]\n",
      "CUSTOM ADJUST - fiber (subtract carbs and calories), 28 g [6, {-56, 'Calories', ('Calories', -56), ('Carbs', -28)}]\n",
      "Net Carb Adjustment - Fiber and Sugar Alcohol Subtracted, 12 Negative Carb [6, {'Carbs', -12, ('Carbs', -12)}]\n",
      "Kraft - Singles Swiss Cheese, -1 slice [6, {('Fat', -4), ('Protein', -4), -60, ('Sugar', -2), 'Calories', ('Carbs', -2), ('Sodium', -260)}]\n",
      "Nuts - Brazil Nuts, Each, -2 nut [6, {'Calories', ('Protein', -1), ('Fiber', -1), ('Sat Fat', -2), ('Carbs', -1), ('Fat', -7), -66}]\n",
      "Coles - Wholemeal Bread Roll, -1 roll [6, {('Protein', -10), -186, ('Sugar', -2), 'Calories', ('Fiber', -11), ('Carbs', -24), ('Fat', -3)}]\n",
      "Cici's Pizza - Subtract the Crust (Ate Only the Toppings), 4 slice [6, {('Sugar', -40), ('Fat', -20), ('Sodium', -480), 'Calories', ('Carbs', -40), -400, ('Protein', -16)}]\n",
      "Sabras - Hummus, -4 Tablespoons [6, {('Protein', -4), 'Calories', ('Fiber', -2), ('Carbs', -8), -140, ('Sodium', -260), ('Fat', -10)}]\n",
      "Quick Added Calories, -64 calories [5, {-64, 'Calories', ('Calories', -64)}]\n",
      "Net Carb Adjustment - Fiber and Sugar Alcohol Subtracted, 5 Negative Carb [5, {('Carbs', -5), -5, 'Carbs'}]\n",
      "Net Carb Adjustment - Fiber and Sugar Alcohol Subtracted, 13 Negative Carb [5, {-13, 'Carbs', ('Carbs', -13)}]\n",
      "Net Carb Adjustment - Fiber and Sugar Alcohol Subtracted, 7 Negative Carb [5, {-7, 'Carbs', ('Carbs', -7)}]\n",
      "Net Carb Adjustment - Fiber and Sugar Alcohol Subtracted, 20 Negative Carb [5, {('Carbs', -20), 'Carbs', -20}]\n",
      "Net Carb Adjustment - Fiber and Sugar Alcohol Subtracted, 18 Negative Carb [5, {'Carbs', ('Carbs', -18), -18}]\n",
      "Zone Perfect - Dark Chocolate Almond Protein Bar, 45 g [5, {'Chol', -5, ('Chol', -5)}]\n",
      "Trader Joe's - Roasted Coconut Chips, -0.3 oz [5, {'Calories', ('Fiber', -1), -48, ('Carbs', -5), ('Fat', -3), ('Sodium', -39)}]\n",
      "Kroger - English Muffins, -0.5 muffin [5, {-60, 'Calories', ('Carbs', -14), ('Fat', -1), ('Protein', -2), ('Fiber', -1)}]\n",
      "Breastfeeding - 1 oz, 31 oz [5, {('Sugar', -62), 'Calories', ('Fat', -31), ('Carbs', -62), -620, ('Sodium', -155)}]\n",
      "Breastfeeding - 1 oz, 15 oz [5, {('Sodium', -75), 'Calories', ('Fat', -15), ('Carbs', -30), -300, ('Sugar', -30)}]\n",
      "Breastfeeding - Older Baby or Minimal Feedings -200 Cal Per Day, 0.5 day [4, {'Calories', ('Fat', -8), ('Protein', -5), ('Carbs', -25), -100}]\n",
      "Generic - Breastfeeding Exclusively, 20 oz. [4, {'Calories', ('Fat', -12), -370, ('Carbs', -37), ('Protein', -23)}]\n",
      "Potatoes - Boiled, cooked in skin, flesh, without salt, -5 oz(s) [4, {-123, ('Carbs', -29), 'Calories', ('Protein', -3), ('Fiber', -3)}]\n",
      "CUSTOM ADJUST - fiber (subtract carbs and calories), 26 g [4, {'Calories', ('Carbs', -26), -52, ('Calories', -52)}]\n",
      "CUSTOM ADJUST - fiber (subtract carbs and calories), 25 g [4, {'Calories', ('Carbs', -25), ('Calories', -50), -50}]\n",
      "CUSTOM ADJUST - fiber (subtract carbs and calories), 23 g [4, {('Carbs', -23), 'Calories', -46, ('Carbs', -12), ('Calories', -46)}]\n",
      "CUSTOM ADJUST - fiber (subtract carbs and calories), 22 g [4, {'Calories', ('Calories', -44), ('Carbs', -11), -44, ('Carbs', -22)}]\n",
      "CUSTOM ADJUST - fiber (subtract carbs and calories), 20 g [4, {-40, 'Calories', ('Carbs', -20), ('Calories', -40)}]\n",
      "Shaw's - Sliced Black Olives, -16 grams [4, {-25, 'Calories', ('Fat', -3), ('Carbs', -1), ('Sodium', -125)}]\n",
      "Net Carb Adjustment - Fiber and Sugar Alcohol Subtracted, 9 Negative Carb [4, {('Carbs', -9), 'Carbs', -9}]\n",
      "Net Carb Adjustment - Fiber and Sugar Alcohol Subtracted, 17 Negative Carb [4, {'Carbs', ('Carbs', -17), -17}]\n",
      "Net Carb Adjustment - Fiber and Sugar Alcohol Subtracted, 15 Negative Carb [4, {-15, 'Carbs', ('Carbs', -15)}]\n",
      "Pork - Cured, bacon, cooked, pan-fried, -2 slice cooked [4, {'Calories', ('Iron', -1), -84, ('Protein', -6), ('Fat', -6)}]\n",
      "Robinsons - Summer Fruits Drink, 1000 ml [4, {('Fat', -4), -4, 'Fat'}]\n",
      "Tesco - Medium Cheddar Cheese, -30 g [4, {-125, 'Calories', ('Fat', -10), ('Sodium', -200), ('Protein', -7)}]\n",
      "Breastfeeding - -400 Cal Per 3-5 Times Per Day, 1 day [4, {('Protein', -10), 'Calories', ('Carbs', -20), ('Fat', -15), -400}]\n",
      "Generic - Romaine Lettuce- 2 Leafs, 2 leafs [4, {'Protein', ('Protein', -1), -1, ('Sugar', -1)}]\n",
      "Generic - Breastfeeding Exclusively, 40.5 oz. [4, {('Fat', -24), 'Calories', ('Carbs', -75), ('Protein', -47), -750}]\n",
      "Townhouse - Bistro Multigrain Crackers, 5 crackers (16g) [3, {'Fiber', -1, ('Fiber', -1)}]\n",
      "Tollhouse - Peanut Butter Chip Cookies, 2 Cookie [3, {'Fiber', -2, ('Fiber', -2)}]\n",
      "Homemade - Broiled Eggs, 2 egg [3, {('Carbs', -2), 'Carbs', -2}]\n",
      "Breast Feeding - Exclusively Nursing , 0.5 cup [3, {'Calories', ('Calories', -250), -250}]\n",
      "Generic - Romaine Lettuce- 2 Leafs, 1 leafs [3, {'Protein', ('Sodium', -1), -1, ('Sugar', -1)}]\n",
      "Ore Ida - Crispers (Baked), 3 oz (20 pieces) [3, {'Sugar', -1, ('Sugar', -1)}]\n",
      "Russel Stover - Caramel Heart Covered In Milk Chocolate, 1 piece [3, {'Fiber', -1, ('Fiber', -1)}]\n",
      "Net Carb Adjustment - Fiber and Sugar Alcohol Subtracted, 19 Negative Carb [3, {'Carbs', -19, ('Carbs', -19)}]\n",
      "Net Carb Adjustment - Fiber and Sugar Alcohol Subtracted, 22 Negative Carb [3, {-22, 'Carbs', ('Carbs', -22)}]\n",
      "Net Carb Adjustment - Fiber and Sugar Alcohol Subtracted, 8 Negative Carb [3, {-8, ('Carbs', -8), 'Carbs'}]\n",
      "Net Carb Adjustment - Fiber and Sugar Alcohol Subtracted, 6 Negative Carb [3, {-6, 'Carbs', ('Carbs', -6)}]\n",
      "Generic - Caramel Pecan Turtle, 1 piece (23g) [3, {'Fiber', -1, ('Fiber', -1)}]\n",
      "Family Gourmet - Finely Shredded Mild Cheddar Cheese, 1/3 cup [3, {('Carbs', -1), 'Carbs', -1}]\n",
      "Leangains Rest Day, 1 cup [3, {('Fat', -20), -20, 'Fat'}]\n",
      "Generic - Lay's Wavy Orginal Potato Chips, 0.75 oz [3, {'Sugar', -1, ('Sugar', -1)}]\n",
      "Generic - Lay's Wavy Orginal Potato Chips, 1 oz [3, {'Sugar', -1, ('Sugar', -1)}]\n",
      "Sugar (White Granulated) - Sugar (White Granulated), -1 tsp [3, {-16, 'Calories', ('Carbs', -4), ('Sugar', -2)}]\n",
      "Generic - Romaine Lettuce- 2 Leafs, 3 leafs [3, {'Protein', ('Sodium', -2), -2, ('Sugar', -2)}]\n",
      "Lamb - Shoulder, blade, lean only, raw, -125 g [3, {'Calories', -189, ('Protein', -24), ('Fat', -10)}]\n",
      "Lamb - Shoulder, blade, lean only, raw, -166.67 g [3, {('Fat', -13), 'Calories', ('Protein', -32), -252}]\n",
      "Generic - Romaine Lettuce- 2 Leafs, 4 leafs [3, {'Protein', ('Sodium', -2), -2, ('Sugar', -2)}]\n",
      "Breastfeeding - 1 oz, 3 oz [3, {'Calories', ('Fat', -3), -60, ('Carbs', -6)}]\n",
      "Breastfeeding - 1 oz, 2 oz [3, {-40, 'Calories', ('Fat', -2), ('Carbs', -4)}]\n",
      "Quick Added Calories, -100 calories [2, {'Calories', ('Calories', -100), -100}]\n",
      "Townhouse - Bistro Multigrain Crackers, 8 crackers (16g) [2, {'Fiber', -2, ('Fiber', -2)}]\n",
      "Quick Added Calories, -200 calories [2, {-200, 'Calories', ('Calories', -200)}]\n",
      "Mayfield - Snow Cream (Ice Cream), 2 Cup [2, {('Protein', -4), 'Protein', -4}]\n",
      "Walmart - Fancy Shredded Fiesta Blend Cheese, 0.25 cup (28g) [2, {('Carbs', -1), 'Carbs', -1}]\n",
      "Nutrilite - Carb Blocker 2, 3 tablets [2, {'Calories', ('Carbs', -120), -500}]\n",
      "CUSTOM ADJUST - fiber (subtract carbs and calories), 37 g [2, {'Calories', ('Carbs', -37), -74}]\n",
      "CUSTOM ADJUST - fiber (subtract carbs and calories), 35 g [2, {'Calories', -70, ('Carbs', -35)}]\n",
      "CUSTOM ADJUST - fiber (subtract carbs and calories), 17 g [2, {'Calories', ('Carbs', -17), -34}]\n",
      "CUSTOM ADJUST - fiber (subtract carbs and calories), 30 g [2, {'Calories', -60, ('Carbs', -30)}]\n",
      "CUSTOM ADJUST - fiber (subtract carbs and calories), 21 g [2, {'Calories', ('Carbs', -21), -42}]\n",
      "CUSTOM ADJUST - fiber (subtract carbs and calories), 32 g [2, {-64, 'Calories', ('Carbs', -32)}]\n",
      "CUSTOM ADJUST - fiber (subtract carbs and calories), 10 g [2, {('Carbs', -10), 'Calories', -20}]\n",
      "CUSTOM ADJUST - fiber (subtract carbs and calories), 29 g [2, {'Calories', ('Carbs', -29), -58}]\n",
      "CUSTOM ADJUST - fiber (subtract carbs and calories), 14 g [2, {'Calories', ('Carbs', -14), -28}]\n",
      "CUSTOM ADJUST - fiber (subtract carbs and calories), 43 g [2, {'Calories', -86, ('Carbs', -43)}]\n",
      "CUSTOM ADJUST - fiber (subtract carbs and calories), 38 g [2, {'Calories', -76, ('Carbs', -38)}]\n",
      "CUSTOM ADJUST - fiber (subtract carbs and calories), 34 g [2, {'Calories', -68, ('Carbs', -17)}]\n",
      "Dak Fully Cooked Premium Ham - Ham Dinner, 2 oz [2, {'Carbs', -1, ('Sugar', -1)}]\n",
      "Net Carb Adjustment - Fiber and Sugar Alcohol Subtracted, 10 Negative Carb [2, {('Carbs', -10), 'Carbs', -10}]\n",
      "Net Carb Adjustment - Fiber and Sugar Alcohol Subtracted, 14 Negative Carb [2, {-14, ('Carbs', -14), 'Carbs'}]\n",
      "Net Carb Adjustment - Fiber and Sugar Alcohol Subtracted, 3 Negative Carb [2, {('Carbs', -3), 'Carbs', -3}]\n",
      "Breastfeeding - Toddler, 400cal, 1 day [2, {-400, 'Calories', ('Calories', -400)}]\n",
      "Quick Added Calories, -300 calories [2, {'Calories', -300, ('Calories', -300)}]\n",
      "Dak Fully Cooked Premium Ham - Ham Dinner, 6 oz [2, {('Sugar', -3), 'Carbs', -3}]\n",
      "Dak Fully Cooked Premium Ham - Ham Dinner, 4 oz [2, {'Carbs', -2, ('Sugar', -2)}]\n",
      "Quick Added Calories, -4 calories [2, {'Calories', ('Calories', -4), -4}]\n",
      "Nabisco - Oreo Medium Cookie Pieces, 1/4 cup [2, {'Fiber', -1, ('Fiber', -1)}]\n",
      "Lay's - Ripple Potato Chips Plain, 2 oz [2, {'Sugar', -2, ('Sugar', -2)}]\n",
      "Bd's Mongolian - Chopped Garlic, 0.5 tsp [2, {'Calories', ('Fat', -2), -1}]\n",
      "Quick Added Calories, -25 calories [2, {'Calories', ('Calories', -25), -25}]\n",
      "Generic - Shrimp (Large or Jumbo), 6 shrimp [2, {('Carbs', -1), 'Carbs', -1}]\n",
      "Quick Added Calories, -90 calories [2, {('Calories', -90), 'Calories', -90}]\n",
      "Salmon - Salmon Head, 100 g [2, {('Carbs', -1), 'Carbs', -1}]\n",
      "Carbs - Carbs and Carbs, -10 g [2, {-40, 'Calories', ('Carbs', -10)}]\n",
      "Quick Added Calories, -60 calories [2, {'Calories', ('Calories', -60), -60}]\n",
      "Iga - Semi Sweet Chocolate Chips, 15 Pieces (15g) [2, {'Protein', ('Protein', -1), -1}]\n",
      "Shoprite - Turkey-Smoked-Thinly Sliced-Fat Free, 2 oz [2, {'Carbs', -1, ('Sugar', -1)}]\n",
      "Nutrilite - Carb Blocker 2, 2 tablets [2, {'Calories', -333, ('Carbs', -80)}]\n",
      "Walmart - Half and Half -Pat M, 4 tablespoon [1, {'Protein', -2}]\n",
      "Townhouse - Bistro Multigrain Crackers, 4 crackers (16g) [1, {'Fiber', -1}]\n",
      "Townhouse - Bistro Multigrain Crackers, 10 crackers (16g) [1, {'Fiber', -2}]\n",
      "Kirkland Signature - Cheader Cheese, 2 slice [1, {'Carbs', -2}]\n",
      "Fiddle Faddle Carmel Popcorn - Carmel Popcorn, 2/3 cup [1, {'Fiber', -1}]\n",
      "Quick Added Calories, -44 calories [1, {'Calories', -44}]\n",
      "Spices - Salt, table, -0.25 tsp(s) [1, {-589, 'Sodium'}]\n",
      "Mentos Rainbow - Fruit Flavoured Sweets, 2 tube [1, {'Protein', -2}]\n",
      "Mentos Rainbow - Fruit Flavoured Sweets, 4 tube [1, {'Protein', -4}]\n",
      "Fritolay - French Onion Dip Corrected, 2 tbsp (About 33g) [1, {'Protein', -1}]\n",
      "Walmart - Fancy Shredded Fiesta Blend Cheese, 2 cup (28g) [1, {-6, 'Carbs'}]\n",
      "Walmart - Fancy Shredded Fiesta Blend Cheese, 1 cup (28g) [1, {'Carbs', -3}]\n",
      "Dreyers - Rich and Creamy Grand Ice Drumstick, 1/2 cup [1, {'Fiber', -1}]\n",
      "Rold Gold - Cheddar Tiny Twist Pretzels, 30 pretzels [1, {'Sugar', -2}]\n",
      "Lay's - Ripple Potato Chips Plain, 0.5 oz [1, {'Sugar', -1}]\n",
      "Tabasco - Spicy Mayonaise, 2 tbsp [1, {'Carbs', -2}]\n",
      "Frigo - String Chesse Light - 100% Natural String Cheese 50% Less Fat, 1 piece (24g) [1, {'Carbs', -1}]\n",
      "Frigo - String Chesse Light - 100% Natural String Cheese 50% Less Fat, 2 piece (24g) [1, {'Carbs', -2}]\n",
      "Net Carb Adjustment - Fiber and Sugar Alcohol Subtracted, 11 Negative Carb [1, {'Carbs', -11}]\n",
      "Net Carb Adjustment - Fiber and Sugar Alcohol Subtracted, 26 Negative Carb [1, {'Carbs', -26}]\n",
      "Net Carb Adjustment - Fiber and Sugar Alcohol Subtracted, 1 Negative Carb [1, {'Carbs', -1}]\n",
      "Net Carb Adjustment - Fiber and Sugar Alcohol Subtracted, 33 Negative Carb [1, {'Carbs', -33}]\n",
      "Net Carb Adjustment - Fiber and Sugar Alcohol Subtracted, 23 Negative Carb [1, {-23, 'Carbs'}]\n",
      "Net Carb Adjustment - Fiber and Sugar Alcohol Subtracted, 21 Negative Carb [1, {-21, 'Carbs'}]\n",
      "Family Gourmet - Finely Shredded Mild Cheddar Cheese, 1.25 cup [1, {'Carbs', -4}]\n",
      "Family Gourmet - Finely Shredded Mild Cheddar Cheese, 1/6 cup [1, {'Carbs', -1}]\n",
      "Oscar Meyer - Jumbo Hot Dog, 1.5 link [1, {'Sugar', -2}]\n",
      "Quick Added Calories, -3 calories [1, {'Calories', -3}]\n",
      "Zapps - Barbque Chips, 0.75 oz bag [1, {'Sugar', -1}]\n",
      "Natra Taste - Sweetener, 4 packet [1, {'Carbs', -4}]\n",
      "Lee's Restaurant - Baked Chicken Leg, 1 Leg [1, {'Carbs', -1}]\n",
      "Clover Valley - Cheese Dip With Pretzels, 1 unit (26g) [1, {'Fiber', -1}]\n",
      "Lay's - Ripple Potato Chips Plain, 1 oz [1, {'Sugar', -1}]\n",
      "Generic - Lay's Wavy Orginal Potato Chips, 0.5 oz [1, {'Sugar', -1}]\n",
      "Kirkland Signature - Cheader Cheese, 4 slice [1, {'Carbs', -4}]\n",
      "Ore Ida - Crispers (Baked), 3.75 oz (20 pieces) [1, {'Sugar', -1}]\n",
      "Ore Ida - Crispers (Baked), 6 oz (20 pieces) [1, {'Sugar', -2}]\n",
      "Robinsons - Summer Fruits Drink, 750 ml [1, {-3, 'Fat'}]\n",
      "Robinsons - Summer Fruits Drink, 1250 ml [1, {-5, 'Fat'}]\n",
      "Nabisco - Oreo Medium Cookie Pieces, 0.1675 cup [1, {'Fiber', -1}]\n",
      "Tastykake - Glazed Honey Bun 71 g, 142 g [1, {'Fiber', -2}]\n",
      "Natures Own Double Fiber - Bread, 2 slice [1, {'Sugar', -2}]\n",
      "Mentos Rainbow - Fruit Flavoured Sweets, 0.5 tube [1, {'Protein', -1}]\n",
      "Giant - Banana Peppers Hot Rings, 1 oz [1, {'Carbs', -1}]\n",
      "Giant - Banana Peppers Hot Rings, 2 oz [1, {'Carbs', -2}]\n",
      "Dinner - Seafood Basket, 190 g [1, {'Sugar', -1}]\n",
      "Philsbury - Grands - Buttermilk Biscuits In A Bag, 1 Biscuit [1, {'Fiber', -1}]\n",
      "Best Choice - Chicken Breast Tenders Skinless Boneless, 3 tenders [1, {'Fiber', -2}]\n",
      "Johnsonville New Orleans Brand Brat - Brat, 1 brat cooked [1, {'Sugar', -1}]\n",
      "Carry Over - Unused Calories From Past Week, -43 calories [1, {'Calories', -43}]\n",
      "Carry Over - Unused Calories From Past Week, -40 calories [1, {-40, 'Calories'}]\n",
      "Generic - Shrimp (Large or Jumbo), 12 shrimp [1, {'Carbs', -1}]\n",
      "Generic - Shrimp (Large or Jumbo), 8 shrimp [1, {'Carbs', -1}]\n",
      "Iga - Semi Sweet Chocolate Chips, 30 Pieces (15g) [1, {'Protein', -1}]\n",
      "Subway - Lettus, 21 g  (6 in sub) [1, {'Calories', -5}]\n",
      "Salmon - Salmon Head, 150 g [1, {'Carbs', -2}]\n",
      "Salmon - Salmon Head, 75 g [1, {'Carbs', -1}]\n",
      "Trader Joe's - Rainbow Pears, 124 g meduim [1, {'Protein', -1}]\n",
      "Robinsons - Summer Fruits Drink, 500 ml [1, {-2, 'Fat'}]\n",
      "Mayfield - Snow Cream (Ice Cream), 1/2 Cup [1, {'Protein', -1}]\n",
      "Generic - Mozzarella Cheese Whips, 0.5 oz [1, {'Carbs', -1}]\n",
      "Generic - Mozzarella Cheese Whips, 1.5 oz [1, {'Carbs', -2}]\n",
      "Breastfeeding - -, 2 day [1, {'Calories', -500}]\n",
      "Quick Added Calories, -95 calories [1, {'Calories', -95}]\n",
      "Quick Added Calories, -170 calories [1, {'Calories', -170}]\n",
      "Laura Lynn - Sour Cream, 4 tbsp [1, {'Protein', -2}]\n",
      "Quick Added Calories, -600 calories [1, {-600, 'Calories'}]\n",
      "Salmon - Salmon Head, 50 g [1, {'Carbs', -1}]\n",
      "Breast Milk - Expressed Breast Milk, 3 oz [1, {'Calories', -60}]\n",
      "Breast Milk - Expressed Breast Milk, 1 oz [1, {'Calories', -20}]\n",
      "Best Choice - Shredded Swiss Cheese, 1/3 Cup (28g) [1, {'Carbs', -1}]\n"
     ]
    }
   ],
   "source": [
    "sortedNegatives = sorted(negatives.items(), key=lambda item: -item[1][0])\n",
    "for key,value in sortedNegatives:\n",
    "    print(key,value)\n"
   ]
  },
  {
   "cell_type": "code",
   "execution_count": 27,
   "metadata": {},
   "outputs": [
    {
     "name": "stdout",
     "output_type": "stream",
     "text": [
      "{'Breastfeeding': 44, 'CUSTOM_ADJUST': 45, 'Other': 113}\n"
     ]
    }
   ],
   "source": [
    "sortedNegatives = sorted(negatives.items(), key=lambda item: -item[1][0])\n",
    "negativesDict = {'Breastfeeding':0,'CUSTOM_ADJUST':0,\n",
    "                 'Other':0}\n",
    "for key,value in sortedNegatives:\n",
    "    if 'Breastfeeding' in key or 'Generic' in key :\n",
    "        negativesDict['Breastfeeding'] +=1\n",
    "    elif 'CUSTOM ADJUST' in key or 'Net Carb Adjustment' in key:\n",
    "        negativesDict['CUSTOM_ADJUST'] +=1    \n",
    "    else:\n",
    "        negativesDict['Other'] +=1\n",
    "print(negativesDict)\n",
    "   \n"
   ]
  },
  {
   "cell_type": "code",
   "execution_count": 28,
   "metadata": {
    "scrolled": false
   },
   "outputs": [
    {
     "data": {
      "image/png": "[encoded data removed]",
      "text/plain": [
       "<Figure size 1440x576 with 1 Axes>"
      ]
     },
     "metadata": {},
     "output_type": "display_data"
    }
   ],
   "source": [
    "plt.figure(figsize=(20,8))\n",
    "plt.pie(negativesDict.values(), labels = negativesDict.keys(),autopct = \"%1.1f%%\")\n",
    "plt.show()"
   ]
  },
  {
   "cell_type": "markdown",
   "metadata": {},
   "source": [
    "უარყოფითი დატის გაანალიზებისას , უპირატესობა დაიკავა BreastFeeding_მა. მიუხედავად ამ ჩარტში 22 პროცენტისა გარკვეული მომხმარებლები , BreastFeeding_ს სხვადსხვა ტიპის ქვეშ აერთიანებენ . Other ნაწილი წვრილ-წვრილი და მრავალი ტიპის საკვებია ,ამიტომაც გამოვიდა ყველაზე ბევრი . "
   ]
  },
  {
   "cell_type": "code",
   "execution_count": 29,
   "metadata": {
    "scrolled": true
   },
   "outputs": [
    {
     "name": "stdout",
     "output_type": "stream",
     "text": [
      "587179\n",
      "573046\n",
      "569327\n",
      "579865\n",
      "390527\n",
      "368914\n",
      "242840\n"
     ]
    }
   ],
   "source": [
    "for goal in goals:\n",
    "    print(len(goal))"
   ]
  },
  {
   "cell_type": "markdown",
   "metadata": {},
   "source": [
    "საბოლოოდ , არსებული მონაცემებიდან გვინდა რომ მივიღოთ, უფრო გამარტივებული და \n",
    "გასუფთავებული მონაცემები.\n",
    "ვაგდებთ  ნუტრიენტებიდან 10 ცალ,ყველაზე ცოტა რაოდენობის, ნუტრიენტს.\n",
    "ახალ ცხრილში გვინდა რომ მონაცემები დავალაგოთ თარიღების ჭრილში.\n",
    "თითოეული მონაცემი ნუტრიენტების იქნება ტოტალური მაჩვენებელი . \n",
    "გვექნება საშუალო მაჩვენებლები და მედიანები."
   ]
  },
  {
   "cell_type": "code",
   "execution_count": null,
   "metadata": {},
   "outputs": [],
   "source": [
    "new_data = {}\n",
    "new_data['Date'] = []\n",
    "new_data['User_Activity'] = []\n",
    "new_data['Food_Count'] = []"
   ]
  },
  {
   "cell_type": "code",
   "execution_count": null,
   "metadata": {},
   "outputs": [],
   "source": [
    "new_data['total_calories'] = []\n",
    "new_data['total_carbs'] = []\n",
    "new_data['total_fat'] = []\n",
    "new_data['total_protein'] = []\n",
    "new_data['total_sodium']= []\n",
    "new_data['total_sugar'] = []\n",
    "new_data['total_fiber'] = []\n",
    "\n",
    "totals_new_data = [\n",
    "    new_data['total_calories'], new_data['total_carbs'], new_data['total_fat'],\n",
    "    new_data['total_protein'], new_data['total_sodium'], new_data['total_sugar'],\n",
    "    new_data['total_fiber']\n",
    "]\n",
    "\n",
    "new_data['total_calories_average'] = []\n",
    "new_data['total_carbs_average'] = []\n",
    "new_data['total_fat_average'] = []\n",
    "new_data['total_protein_average'] = []\n",
    "new_data['total_sodium_average']= []\n",
    "new_data['total_sugar_average'] = []\n",
    "new_data['total_fiber_average'] = []\n",
    "\n",
    "total_averages_new_data = [\n",
    "    new_data['total_calories_average'], new_data['total_carbs_average'],\n",
    "    new_data['total_fat_average'], new_data['total_protein_average'],\n",
    "    new_data['total_sodium_average'], new_data['total_sugar_average'],\n",
    "    new_data['total_fiber_average']\n",
    "]"
   ]
  },
  {
   "cell_type": "code",
   "execution_count": 54,
   "metadata": {},
   "outputs": [],
   "source": [
    "def countTotals(tmp_data, tmp):   \n",
    "    for j in range(tmp_data.shape[0]):  \n",
    "        dloc = json.loads(tmp_data.iloc[j, 2])\n",
    "        for dish in dcol:\n",
    "            for food in dish['dishes']:\n",
    "                for nutrient in food['nutritions']:\n",
    "                    index = prot_names.index(nutrient['name'])\n",
    "                    value = replacer(nutrient['value'])\n",
    "                    tmp[index] += int(value)"
   ]
  },
  {
   "cell_type": "code",
   "execution_count": 33,
   "metadata": {},
   "outputs": [],
   "source": [
    "new_data['goal_calories'] = []\n",
    "new_data['goal_carbs'] = []\n",
    "new_data['goal_fat'] = []\n",
    "new_data['goal_protein'] = []\n",
    "new_data['goal_sodium']= []\n",
    "new_data['goal_sugar'] = []\n",
    "new_data['goal_fiber'] = []\n",
    "\n",
    "goals_new_data = [\n",
    "    new_data['goal_calories'], new_data['goal_carbs'], new_data['goal_fat'],\n",
    "    new_data['goal_protein'], new_data['goal_sodium'], new_data['goal_sugar'],\n",
    "    new_data['goal_fiber']\n",
    "]\n",
    "\n",
    "new_data['goal_calories_average'] = []\n",
    "new_data['goal_carbs_average'] = []\n",
    "new_data['goal_fat_average'] = []\n",
    "new_data['goal_protein_average'] = []\n",
    "new_data['goal_sodium_average']= []\n",
    "new_data['goal_sugar_average'] = []\n",
    "new_data['goal_fiber_average'] = []\n",
    "\n",
    "goal_averages_new_data = [\n",
    "    new_data['goal_calories_average'], new_data['goal_carbs_average'],\n",
    "    new_data['goal_fat_average'], new_data['goal_protein_average'],\n",
    "    new_data['goal_sodium_average'], new_data['goal_sugar_average'],\n",
    "    new_data['goal_fiber_average']\n",
    "]"
   ]
  },
  {
   "cell_type": "code",
   "execution_count": 34,
   "metadata": {},
   "outputs": [
    {
     "ename": "SyntaxError",
     "evalue": "unexpected EOF while parsing (<ipython-input-34-eb5b5463d927>, line 2)",
     "output_type": "error",
     "traceback": [
      "\u001b[0;36m  File \u001b[0;32m\"<ipython-input-34-eb5b5463d927>\"\u001b[0;36m, line \u001b[0;32m2\u001b[0m\n\u001b[0;31m    for j in range(data.shape[0]):\u001b[0m\n\u001b[0m                                  ^\u001b[0m\n\u001b[0;31mSyntaxError\u001b[0m\u001b[0;31m:\u001b[0m unexpected EOF while parsing\n"
     ]
    }
   ],
   "source": [
    "# def countGoals():\n",
    "#     for j in range(data.shape[0]):\n"
   ]
  },
  {
   "cell_type": "code",
   "execution_count": 35,
   "metadata": {},
   "outputs": [],
   "source": [
    "def countFood(data):\n",
    "    res = 0\n",
    "    \n",
    "    for j in range(data.shape[0]):\n",
    "        food_entries = json.loads(data.iloc[j, 2])\n",
    "        food = food_entries[0]\n",
    "        res += len(food['dishes'])\n",
    "    \n",
    "    return res"
   ]
  },
  {
   "cell_type": "code",
   "execution_count": 55,
   "metadata": {},
   "outputs": [],
   "source": [
    "time_interval = int((end-start).days)+1\n",
    "for i in range(time_interval):\n",
    "    date = start+timedelta(i)\n",
    "    date = date.strftime('%Y-%m-%d')\n",
    "    \n",
    "    tmp_data = data[data[data.columns[1]] == date]\n",
    "    food_count = countFood(tmp_data)\n",
    "    \n",
    "    tmp_totals = np.zeros(len(prot_names))\n",
    "    countTotals(tmp_data, tmp_totals)\n",
    "    \n",
    "    for k in range(len(prot_names)):\n",
    "        totals_new_data[k].append(tmp_totals[k])\n",
    "    \n",
    "#     countGoals(tmp_data)\n",
    "    \n",
    "    \n",
    "    \n",
    "    new_data['Date'].append(date)\n",
    "    new_data['User_Activity'].append(len(tmp_data[tmp_data.columns[0]].unique()))\n",
    "    new_data['Food_Count'].append(food_count)\n",
    "    \n",
    "    "
   ]
  },
  {
   "cell_type": "code",
   "execution_count": 56,
   "metadata": {},
   "outputs": [
    {
     "data": {
      "text/html": [
       "<div>\n",
       "<style scoped>\n",
       "    .dataframe tbody tr th:only-of-type {\n",
       "        vertical-align: middle;\n",
       "    }\n",
       "\n",
       "    .dataframe tbody tr th {\n",
       "        vertical-align: top;\n",
       "    }\n",
       "\n",
       "    .dataframe thead th {\n",
       "        text-align: right;\n",
       "    }\n",
       "</style>\n",
       "<table border=\"1\" class=\"dataframe\">\n",
       "  <thead>\n",
       "    <tr style=\"text-align: right;\">\n",
       "      <th></th>\n",
       "      <th>0</th>\n",
       "      <th>1</th>\n",
       "      <th>2</th>\n",
       "      <th>3</th>\n",
       "      <th>4</th>\n",
       "      <th>5</th>\n",
       "      <th>6</th>\n",
       "      <th>7</th>\n",
       "      <th>8</th>\n",
       "      <th>9</th>\n",
       "      <th>...</th>\n",
       "      <th>406</th>\n",
       "      <th>407</th>\n",
       "      <th>408</th>\n",
       "      <th>409</th>\n",
       "      <th>410</th>\n",
       "      <th>411</th>\n",
       "      <th>412</th>\n",
       "      <th>413</th>\n",
       "      <th>414</th>\n",
       "      <th>415</th>\n",
       "    </tr>\n",
       "  </thead>\n",
       "  <tbody>\n",
       "    <tr>\n",
       "      <th>0</th>\n",
       "      <td>83776.0</td>\n",
       "      <td>418880.0</td>\n",
       "      <td>417384.0</td>\n",
       "      <td>409904.0</td>\n",
       "      <td>571472.0</td>\n",
       "      <td>676192.0</td>\n",
       "      <td>770440.0</td>\n",
       "      <td>1065152.0</td>\n",
       "      <td>1751816.0</td>\n",
       "      <td>2054008.0</td>\n",
       "      <td>...</td>\n",
       "      <td>1934328.0</td>\n",
       "      <td>1684496.0</td>\n",
       "      <td>1415216.0</td>\n",
       "      <td>1110032.0</td>\n",
       "      <td>873664.0</td>\n",
       "      <td>770440.0</td>\n",
       "      <td>858704.0</td>\n",
       "      <td>525096.0</td>\n",
       "      <td>197472.0</td>\n",
       "      <td>25432.0</td>\n",
       "    </tr>\n",
       "    <tr>\n",
       "      <th>1</th>\n",
       "      <td>7392.0</td>\n",
       "      <td>36960.0</td>\n",
       "      <td>36828.0</td>\n",
       "      <td>36168.0</td>\n",
       "      <td>50424.0</td>\n",
       "      <td>59664.0</td>\n",
       "      <td>67980.0</td>\n",
       "      <td>93984.0</td>\n",
       "      <td>154572.0</td>\n",
       "      <td>181236.0</td>\n",
       "      <td>...</td>\n",
       "      <td>170676.0</td>\n",
       "      <td>148632.0</td>\n",
       "      <td>124872.0</td>\n",
       "      <td>97944.0</td>\n",
       "      <td>77088.0</td>\n",
       "      <td>67980.0</td>\n",
       "      <td>75768.0</td>\n",
       "      <td>46332.0</td>\n",
       "      <td>17424.0</td>\n",
       "      <td>2244.0</td>\n",
       "    </tr>\n",
       "    <tr>\n",
       "      <th>2</th>\n",
       "      <td>5768.0</td>\n",
       "      <td>28840.0</td>\n",
       "      <td>28737.0</td>\n",
       "      <td>28222.0</td>\n",
       "      <td>39346.0</td>\n",
       "      <td>46556.0</td>\n",
       "      <td>53045.0</td>\n",
       "      <td>73336.0</td>\n",
       "      <td>120613.0</td>\n",
       "      <td>141419.0</td>\n",
       "      <td>...</td>\n",
       "      <td>133179.0</td>\n",
       "      <td>115978.0</td>\n",
       "      <td>97438.0</td>\n",
       "      <td>76426.0</td>\n",
       "      <td>60152.0</td>\n",
       "      <td>53045.0</td>\n",
       "      <td>59122.0</td>\n",
       "      <td>36153.0</td>\n",
       "      <td>13596.0</td>\n",
       "      <td>1751.0</td>\n",
       "    </tr>\n",
       "    <tr>\n",
       "      <th>3</th>\n",
       "      <td>3024.0</td>\n",
       "      <td>15120.0</td>\n",
       "      <td>15066.0</td>\n",
       "      <td>14796.0</td>\n",
       "      <td>20628.0</td>\n",
       "      <td>24408.0</td>\n",
       "      <td>27810.0</td>\n",
       "      <td>38448.0</td>\n",
       "      <td>63234.0</td>\n",
       "      <td>74142.0</td>\n",
       "      <td>...</td>\n",
       "      <td>69822.0</td>\n",
       "      <td>60804.0</td>\n",
       "      <td>51084.0</td>\n",
       "      <td>40068.0</td>\n",
       "      <td>31536.0</td>\n",
       "      <td>27810.0</td>\n",
       "      <td>30996.0</td>\n",
       "      <td>18954.0</td>\n",
       "      <td>7128.0</td>\n",
       "      <td>918.0</td>\n",
       "    </tr>\n",
       "    <tr>\n",
       "      <th>4</th>\n",
       "      <td>0.0</td>\n",
       "      <td>0.0</td>\n",
       "      <td>0.0</td>\n",
       "      <td>0.0</td>\n",
       "      <td>0.0</td>\n",
       "      <td>0.0</td>\n",
       "      <td>0.0</td>\n",
       "      <td>0.0</td>\n",
       "      <td>0.0</td>\n",
       "      <td>0.0</td>\n",
       "      <td>...</td>\n",
       "      <td>0.0</td>\n",
       "      <td>0.0</td>\n",
       "      <td>0.0</td>\n",
       "      <td>0.0</td>\n",
       "      <td>0.0</td>\n",
       "      <td>0.0</td>\n",
       "      <td>0.0</td>\n",
       "      <td>0.0</td>\n",
       "      <td>0.0</td>\n",
       "      <td>0.0</td>\n",
       "    </tr>\n",
       "    <tr>\n",
       "      <th>5</th>\n",
       "      <td>2912.0</td>\n",
       "      <td>14560.0</td>\n",
       "      <td>14508.0</td>\n",
       "      <td>14248.0</td>\n",
       "      <td>19864.0</td>\n",
       "      <td>23504.0</td>\n",
       "      <td>26780.0</td>\n",
       "      <td>37024.0</td>\n",
       "      <td>60892.0</td>\n",
       "      <td>71396.0</td>\n",
       "      <td>...</td>\n",
       "      <td>67236.0</td>\n",
       "      <td>58552.0</td>\n",
       "      <td>49192.0</td>\n",
       "      <td>38584.0</td>\n",
       "      <td>30368.0</td>\n",
       "      <td>26780.0</td>\n",
       "      <td>29848.0</td>\n",
       "      <td>18252.0</td>\n",
       "      <td>6864.0</td>\n",
       "      <td>884.0</td>\n",
       "    </tr>\n",
       "    <tr>\n",
       "      <th>6</th>\n",
       "      <td>616.0</td>\n",
       "      <td>3080.0</td>\n",
       "      <td>3069.0</td>\n",
       "      <td>3014.0</td>\n",
       "      <td>4202.0</td>\n",
       "      <td>4972.0</td>\n",
       "      <td>5665.0</td>\n",
       "      <td>7832.0</td>\n",
       "      <td>12881.0</td>\n",
       "      <td>15103.0</td>\n",
       "      <td>...</td>\n",
       "      <td>14223.0</td>\n",
       "      <td>12386.0</td>\n",
       "      <td>10406.0</td>\n",
       "      <td>8162.0</td>\n",
       "      <td>6424.0</td>\n",
       "      <td>5665.0</td>\n",
       "      <td>6314.0</td>\n",
       "      <td>3861.0</td>\n",
       "      <td>1452.0</td>\n",
       "      <td>187.0</td>\n",
       "    </tr>\n",
       "  </tbody>\n",
       "</table>\n",
       "<p>7 rows × 416 columns</p>\n",
       "</div>"
      ],
      "text/plain": [
       "       0         1         2         3         4         5         6    \\\n",
       "0  83776.0  418880.0  417384.0  409904.0  571472.0  676192.0  770440.0   \n",
       "1   7392.0   36960.0   36828.0   36168.0   50424.0   59664.0   67980.0   \n",
       "2   5768.0   28840.0   28737.0   28222.0   39346.0   46556.0   53045.0   \n",
       "3   3024.0   15120.0   15066.0   14796.0   20628.0   24408.0   27810.0   \n",
       "4      0.0       0.0       0.0       0.0       0.0       0.0       0.0   \n",
       "5   2912.0   14560.0   14508.0   14248.0   19864.0   23504.0   26780.0   \n",
       "6    616.0    3080.0    3069.0    3014.0    4202.0    4972.0    5665.0   \n",
       "\n",
       "         7          8          9    ...        406        407        408  \\\n",
       "0  1065152.0  1751816.0  2054008.0  ...  1934328.0  1684496.0  1415216.0   \n",
       "1    93984.0   154572.0   181236.0  ...   170676.0   148632.0   124872.0   \n",
       "2    73336.0   120613.0   141419.0  ...   133179.0   115978.0    97438.0   \n",
       "3    38448.0    63234.0    74142.0  ...    69822.0    60804.0    51084.0   \n",
       "4        0.0        0.0        0.0  ...        0.0        0.0        0.0   \n",
       "5    37024.0    60892.0    71396.0  ...    67236.0    58552.0    49192.0   \n",
       "6     7832.0    12881.0    15103.0  ...    14223.0    12386.0    10406.0   \n",
       "\n",
       "         409       410       411       412       413       414      415  \n",
       "0  1110032.0  873664.0  770440.0  858704.0  525096.0  197472.0  25432.0  \n",
       "1    97944.0   77088.0   67980.0   75768.0   46332.0   17424.0   2244.0  \n",
       "2    76426.0   60152.0   53045.0   59122.0   36153.0   13596.0   1751.0  \n",
       "3    40068.0   31536.0   27810.0   30996.0   18954.0    7128.0    918.0  \n",
       "4        0.0       0.0       0.0       0.0       0.0       0.0      0.0  \n",
       "5    38584.0   30368.0   26780.0   29848.0   18252.0    6864.0    884.0  \n",
       "6     8162.0    6424.0    5665.0    6314.0    3861.0    1452.0    187.0  \n",
       "\n",
       "[7 rows x 416 columns]"
      ]
     },
     "execution_count": 56,
     "metadata": {},
     "output_type": "execute_result"
    }
   ],
   "source": [
    "p = pd.DataFrame(totals_new_data)\n",
    "p\n"
   ]
  }
 ],
 "metadata": {
  "kernelspec": {
   "display_name": "Python 3",
   "language": "python",
   "name": "python3"
  },
  "language_info": {
   "codemirror_mode": {
    "name": "ipython",
    "version": 3
   },
   "file_extension": ".py",
   "mimetype": "text/x-python",
   "name": "python",
   "nbconvert_exporter": "python",
   "pygments_lexer": "ipython3",
   "version": "3.8.5"
  }
 },
 "nbformat": 4,
 "nbformat_minor": 4
}
